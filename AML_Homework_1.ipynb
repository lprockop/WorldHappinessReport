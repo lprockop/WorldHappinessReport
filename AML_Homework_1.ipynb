{
  "nbformat": 4,
  "nbformat_minor": 0,
  "metadata": {
    "colab": {
      "provenance": [],
      "authorship_tag": "ABX9TyO+IdbJHw9brpjqYfe2iqr2",
      "include_colab_link": true
    },
    "kernelspec": {
      "name": "python3",
      "display_name": "Python 3"
    },
    "language_info": {
      "name": "python"
    }
  },
  "cells": [
    {
      "cell_type": "markdown",
      "metadata": {
        "id": "view-in-github",
        "colab_type": "text"
      },
      "source": [
        "<a href=\"https://colab.research.google.com/github/lprockop/WorldHappinessReport/blob/main/AML_Homework_1.ipynb\" target=\"_parent\"><img src=\"https://colab.research.google.com/assets/colab-badge.svg\" alt=\"Open In Colab\"/></a>"
      ]
    },
    {
      "cell_type": "markdown",
      "source": [
        "# Advanced Projects in Machine Learning\n",
        "## Assignment 1\n",
        "\n",
        "Lyle Prockop  \n",
        "lp2974  \n",
        "Team 7  \n",
        "February 6, 2023  \n",
        "\n",
        "[Link to GitHub repo](https://github.com/lprockop/WorldHappinessReport)"
      ],
      "metadata": {
        "id": "RO7Y6CEIRFWx"
      }
    },
    {
      "cell_type": "markdown",
      "source": [
        "# Import data"
      ],
      "metadata": {
        "id": "P7KP3y2zStbq"
      }
    },
    {
      "cell_type": "code",
      "execution_count": 1,
      "metadata": {
        "id": "BR1KsaOVNjRm"
      },
      "outputs": [],
      "source": [
        "import pandas as pd\n",
        "import numpy as np\n",
        "import matplotlib.pyplot as plt\n",
        "from zipfile import ZipFile"
      ]
    },
    {
      "cell_type": "code",
      "source": [
        "# loading the temp.zip and creating a zip object\n",
        "with ZipFile(\"world_happiness_competition_data.zip\", 'r') as zObject:\n",
        "  \n",
        "    # Extracting all the members of the zip \n",
        "    # into a specific location.\n",
        "    zObject.extractall()\n",
        "\n",
        "# Load data\n",
        "X_train = pd.read_csv('world_happiness_competition_data/X_train.csv')\n",
        "X_test = pd.read_csv('world_happiness_competition_data/X_test.csv')\n",
        "y_train = pd.read_csv('world_happiness_competition_data/y_train.csv')\n",
        "y_train_labels = y_train.idxmax(axis=1)\n",
        "\n",
        "X_train.head()"
      ],
      "metadata": {
        "id": "u7dL_0QlTPOf",
        "colab": {
          "base_uri": "https://localhost:8080/",
          "height": 478
        },
        "outputId": "b1748759-e7e6-4ec1-ba47-d6b81226084e"
      },
      "execution_count": 2,
      "outputs": [
        {
          "output_type": "execute_result",
          "data": {
            "text/plain": [
              "  Country or region  GDP per capita  Social support  Healthy life expectancy  \\\n",
              "0              Peru           0.960           1.274                    0.854   \n",
              "1         Nicaragua           0.694           1.325                    0.835   \n",
              "2            Greece           1.181           1.156                    0.999   \n",
              "3             Qatar           1.684           1.313                    0.871   \n",
              "4        Uzbekistan           0.745           1.529                    0.756   \n",
              "\n",
              "   Freedom to make life choices  Generosity  Perceptions of corruption  \\\n",
              "0                         0.455       0.083                      0.027   \n",
              "1                         0.435       0.200                      0.127   \n",
              "2                         0.067       0.000                      0.034   \n",
              "3                         0.555       0.220                      0.167   \n",
              "4                         0.631       0.322                      0.240   \n",
              "\n",
              "         name    region                       sub-region  Terrorist_attacks  \n",
              "0        Peru  Americas  Latin America and the Caribbean          18.000000  \n",
              "1   Nicaragua  Americas  Latin America and the Caribbean         125.611111  \n",
              "2      Greece    Europe                  Southern Europe         112.000000  \n",
              "3       Qatar      Asia                     Western Asia          57.333333  \n",
              "4  Uzbekistan      Asia                     Central Asia         125.611111  "
            ],
            "text/html": [
              "\n",
              "  <div id=\"df-95db98ea-eddb-4775-aa67-406aca459e08\">\n",
              "    <div class=\"colab-df-container\">\n",
              "      <div>\n",
              "<style scoped>\n",
              "    .dataframe tbody tr th:only-of-type {\n",
              "        vertical-align: middle;\n",
              "    }\n",
              "\n",
              "    .dataframe tbody tr th {\n",
              "        vertical-align: top;\n",
              "    }\n",
              "\n",
              "    .dataframe thead th {\n",
              "        text-align: right;\n",
              "    }\n",
              "</style>\n",
              "<table border=\"1\" class=\"dataframe\">\n",
              "  <thead>\n",
              "    <tr style=\"text-align: right;\">\n",
              "      <th></th>\n",
              "      <th>Country or region</th>\n",
              "      <th>GDP per capita</th>\n",
              "      <th>Social support</th>\n",
              "      <th>Healthy life expectancy</th>\n",
              "      <th>Freedom to make life choices</th>\n",
              "      <th>Generosity</th>\n",
              "      <th>Perceptions of corruption</th>\n",
              "      <th>name</th>\n",
              "      <th>region</th>\n",
              "      <th>sub-region</th>\n",
              "      <th>Terrorist_attacks</th>\n",
              "    </tr>\n",
              "  </thead>\n",
              "  <tbody>\n",
              "    <tr>\n",
              "      <th>0</th>\n",
              "      <td>Peru</td>\n",
              "      <td>0.960</td>\n",
              "      <td>1.274</td>\n",
              "      <td>0.854</td>\n",
              "      <td>0.455</td>\n",
              "      <td>0.083</td>\n",
              "      <td>0.027</td>\n",
              "      <td>Peru</td>\n",
              "      <td>Americas</td>\n",
              "      <td>Latin America and the Caribbean</td>\n",
              "      <td>18.000000</td>\n",
              "    </tr>\n",
              "    <tr>\n",
              "      <th>1</th>\n",
              "      <td>Nicaragua</td>\n",
              "      <td>0.694</td>\n",
              "      <td>1.325</td>\n",
              "      <td>0.835</td>\n",
              "      <td>0.435</td>\n",
              "      <td>0.200</td>\n",
              "      <td>0.127</td>\n",
              "      <td>Nicaragua</td>\n",
              "      <td>Americas</td>\n",
              "      <td>Latin America and the Caribbean</td>\n",
              "      <td>125.611111</td>\n",
              "    </tr>\n",
              "    <tr>\n",
              "      <th>2</th>\n",
              "      <td>Greece</td>\n",
              "      <td>1.181</td>\n",
              "      <td>1.156</td>\n",
              "      <td>0.999</td>\n",
              "      <td>0.067</td>\n",
              "      <td>0.000</td>\n",
              "      <td>0.034</td>\n",
              "      <td>Greece</td>\n",
              "      <td>Europe</td>\n",
              "      <td>Southern Europe</td>\n",
              "      <td>112.000000</td>\n",
              "    </tr>\n",
              "    <tr>\n",
              "      <th>3</th>\n",
              "      <td>Qatar</td>\n",
              "      <td>1.684</td>\n",
              "      <td>1.313</td>\n",
              "      <td>0.871</td>\n",
              "      <td>0.555</td>\n",
              "      <td>0.220</td>\n",
              "      <td>0.167</td>\n",
              "      <td>Qatar</td>\n",
              "      <td>Asia</td>\n",
              "      <td>Western Asia</td>\n",
              "      <td>57.333333</td>\n",
              "    </tr>\n",
              "    <tr>\n",
              "      <th>4</th>\n",
              "      <td>Uzbekistan</td>\n",
              "      <td>0.745</td>\n",
              "      <td>1.529</td>\n",
              "      <td>0.756</td>\n",
              "      <td>0.631</td>\n",
              "      <td>0.322</td>\n",
              "      <td>0.240</td>\n",
              "      <td>Uzbekistan</td>\n",
              "      <td>Asia</td>\n",
              "      <td>Central Asia</td>\n",
              "      <td>125.611111</td>\n",
              "    </tr>\n",
              "  </tbody>\n",
              "</table>\n",
              "</div>\n",
              "      <button class=\"colab-df-convert\" onclick=\"convertToInteractive('df-95db98ea-eddb-4775-aa67-406aca459e08')\"\n",
              "              title=\"Convert this dataframe to an interactive table.\"\n",
              "              style=\"display:none;\">\n",
              "        \n",
              "  <svg xmlns=\"http://www.w3.org/2000/svg\" height=\"24px\"viewBox=\"0 0 24 24\"\n",
              "       width=\"24px\">\n",
              "    <path d=\"M0 0h24v24H0V0z\" fill=\"none\"/>\n",
              "    <path d=\"M18.56 5.44l.94 2.06.94-2.06 2.06-.94-2.06-.94-.94-2.06-.94 2.06-2.06.94zm-11 1L8.5 8.5l.94-2.06 2.06-.94-2.06-.94L8.5 2.5l-.94 2.06-2.06.94zm10 10l.94 2.06.94-2.06 2.06-.94-2.06-.94-.94-2.06-.94 2.06-2.06.94z\"/><path d=\"M17.41 7.96l-1.37-1.37c-.4-.4-.92-.59-1.43-.59-.52 0-1.04.2-1.43.59L10.3 9.45l-7.72 7.72c-.78.78-.78 2.05 0 2.83L4 21.41c.39.39.9.59 1.41.59.51 0 1.02-.2 1.41-.59l7.78-7.78 2.81-2.81c.8-.78.8-2.07 0-2.86zM5.41 20L4 18.59l7.72-7.72 1.47 1.35L5.41 20z\"/>\n",
              "  </svg>\n",
              "      </button>\n",
              "      \n",
              "  <style>\n",
              "    .colab-df-container {\n",
              "      display:flex;\n",
              "      flex-wrap:wrap;\n",
              "      gap: 12px;\n",
              "    }\n",
              "\n",
              "    .colab-df-convert {\n",
              "      background-color: #E8F0FE;\n",
              "      border: none;\n",
              "      border-radius: 50%;\n",
              "      cursor: pointer;\n",
              "      display: none;\n",
              "      fill: #1967D2;\n",
              "      height: 32px;\n",
              "      padding: 0 0 0 0;\n",
              "      width: 32px;\n",
              "    }\n",
              "\n",
              "    .colab-df-convert:hover {\n",
              "      background-color: #E2EBFA;\n",
              "      box-shadow: 0px 1px 2px rgba(60, 64, 67, 0.3), 0px 1px 3px 1px rgba(60, 64, 67, 0.15);\n",
              "      fill: #174EA6;\n",
              "    }\n",
              "\n",
              "    [theme=dark] .colab-df-convert {\n",
              "      background-color: #3B4455;\n",
              "      fill: #D2E3FC;\n",
              "    }\n",
              "\n",
              "    [theme=dark] .colab-df-convert:hover {\n",
              "      background-color: #434B5C;\n",
              "      box-shadow: 0px 1px 3px 1px rgba(0, 0, 0, 0.15);\n",
              "      filter: drop-shadow(0px 1px 2px rgba(0, 0, 0, 0.3));\n",
              "      fill: #FFFFFF;\n",
              "    }\n",
              "  </style>\n",
              "\n",
              "      <script>\n",
              "        const buttonEl =\n",
              "          document.querySelector('#df-95db98ea-eddb-4775-aa67-406aca459e08 button.colab-df-convert');\n",
              "        buttonEl.style.display =\n",
              "          google.colab.kernel.accessAllowed ? 'block' : 'none';\n",
              "\n",
              "        async function convertToInteractive(key) {\n",
              "          const element = document.querySelector('#df-95db98ea-eddb-4775-aa67-406aca459e08');\n",
              "          const dataTable =\n",
              "            await google.colab.kernel.invokeFunction('convertToInteractive',\n",
              "                                                     [key], {});\n",
              "          if (!dataTable) return;\n",
              "\n",
              "          const docLinkHtml = 'Like what you see? Visit the ' +\n",
              "            '<a target=\"_blank\" href=https://colab.research.google.com/notebooks/data_table.ipynb>data table notebook</a>'\n",
              "            + ' to learn more about interactive tables.';\n",
              "          element.innerHTML = '';\n",
              "          dataTable['output_type'] = 'display_data';\n",
              "          await google.colab.output.renderOutput(dataTable, element);\n",
              "          const docLink = document.createElement('div');\n",
              "          docLink.innerHTML = docLinkHtml;\n",
              "          element.appendChild(docLink);\n",
              "        }\n",
              "      </script>\n",
              "    </div>\n",
              "  </div>\n",
              "  "
            ]
          },
          "metadata": {},
          "execution_count": 2
        }
      ]
    },
    {
      "cell_type": "markdown",
      "source": [
        "# EDA: Visualize bivariate relationships"
      ],
      "metadata": {
        "id": "m6RfPemfVAwK"
      }
    },
    {
      "cell_type": "code",
      "source": [
        "df = pd.concat((X_train, y_train_labels), axis=1)\n",
        "df.rename(columns = {0: 'Happiness'}, inplace = True)\n",
        "df.head()\n",
        "order = ['Very Low', 'Low', 'Average', 'High', 'Very High']\n",
        "df['Happiness'] = pd.Categorical(df['Happiness'], categories=order)\n",
        "df_sorted = df.sort_values(by='Happiness')"
      ],
      "metadata": {
        "id": "PZA35gsfWYdq"
      },
      "execution_count": null,
      "outputs": []
    },
    {
      "cell_type": "code",
      "source": [
        "plt.hist(df_sorted['Happiness'])\n",
        "plt.title('Frequency of happiness scores')\n",
        "plt.show()\n",
        "\n",
        "columns = ['GDP per capita', 'Social support', 'Healthy life expectancy', 'Freedom to make life choices', 'Generosity', 'Perceptions of corruption', 'Terrorist_attacks']\n",
        "for column in columns:\n",
        "  plt.bar('Happiness', column, data=df_sorted)\n",
        "  plt.title(\"Happiness and \"+str(column))\n",
        "  plt.show()"
      ],
      "metadata": {
        "colab": {
          "base_uri": "https://localhost:8080/",
          "height": 1000
        },
        "id": "XhuJ3XVF1i_L",
        "outputId": "106eff1f-755e-44ad-9d52-b970708f7548"
      },
      "execution_count": null,
      "outputs": [
        {
          "output_type": "display_data",
          "data": {
            "text/plain": [
              "<Figure size 432x288 with 1 Axes>"
            ],
            "image/png": "[encoded data removed]"
          },
          "metadata": {
            "needs_background": "light"
          }
        },
        {
          "output_type": "display_data",
          "data": {
            "text/plain": [
              "<Figure size 432x288 with 1 Axes>"
            ],
            "image/png": "[encoded data removed]"
          },
          "metadata": {
            "needs_background": "light"
          }
        },
        {
          "output_type": "display_data",
          "data": {
            "text/plain": [
              "<Figure size 432x288 with 1 Axes>"
            ],
            "image/png": "[encoded data removed]"
          },
          "metadata": {
            "needs_background": "light"
          }
        },
        {
          "output_type": "display_data",
          "data": {
            "text/plain": [
              "<Figure size 432x288 with 1 Axes>"
            ],
            "image/png": "[encoded data removed]"
          },
          "metadata": {
            "needs_background": "light"
          }
        },
        {
          "output_type": "display_data",
          "data": {
            "text/plain": [
              "<Figure size 432x288 with 1 Axes>"
            ],
            "image/png": "[encoded data removed]"
          },
          "metadata": {
            "needs_background": "light"
          }
        },
        {
          "output_type": "display_data",
          "data": {
            "text/plain": [
              "<Figure size 432x288 with 1 Axes>"
            ],
            "image/png": "[encoded data removed]"
          },
          "metadata": {
            "needs_background": "light"
          }
        },
        {
          "output_type": "display_data",
          "data": {
            "text/plain": [
              "<Figure size 432x288 with 1 Axes>"
            ],
            "image/png": "[encoded data removed]"
          },
          "metadata": {
            "needs_background": "light"
          }
        },
        {
          "output_type": "display_data",
          "data": {
            "text/plain": [
              "<Figure size 432x288 with 1 Axes>"
            ],
            "image/png": "[encoded data removed]"
          },
          "metadata": {
            "needs_background": "light"
          }
        }
      ]
    },
    {
      "cell_type": "markdown",
      "source": [
        "These bar plots show the relationship between happiness level and GDP per capita, social support, healthy life expectancy, freedom to make life choices, generosity, perceptions of corruption, and terrorist attacks.\n",
        "\n",
        "There appear to be positive relationships between happiness and both GDP per capita and social support. There is a weakly positive relationship between happiness and life expectancy.\n",
        "\n",
        "There is heterogeneity in the impact of freedom to make life choices, generosity, and perceptions of corruption. \n",
        "\n",
        "It seems that terrorist attacks are associated with low levels of happiness."
      ],
      "metadata": {
        "id": "z9J_mB5O_XVl"
      }
    },
    {
      "cell_type": "markdown",
      "source": [
        "# Data preprocessing"
      ],
      "metadata": {
        "id": "5W_qK4f7Knuk"
      }
    },
    {
      "cell_type": "code",
      "source": [
        "!pip install aimodelshare --upgrade"
      ],
      "metadata": {
        "id": "oIU1f314gboW"
      },
      "execution_count": null,
      "outputs": []
    },
    {
      "cell_type": "code",
      "source": [
        "from sklearn.preprocessing import StandardScaler, OneHotEncoder\n",
        "from sklearn.compose import ColumnTransformer, make_column_transformer\n",
        "from sklearn.pipeline import Pipeline\n",
        "from sklearn.impute import SimpleImputer\n",
        "from sklearn.preprocessing import StandardScaler, OneHotEncoder\n",
        "\n",
        "#preprocessing pipelines for both numeric and categorical data.\n",
        "\n",
        "#preprocessing pipeline for numeric data\n",
        "##replace missing with median; scale and center\n",
        "numeric_features = X_train.drop(['Country or region', 'name', 'region', 'sub-region'], axis=1)\n",
        "numeric_features=numeric_features.columns.tolist()\n",
        "\n",
        "numeric_transformer = Pipeline(steps=[\n",
        "    ('imputer', SimpleImputer(strategy='median')),\n",
        "    ('scaler', StandardScaler())])\n",
        "\n",
        "#preprocessing pipeline for categorical data\n",
        "##replace missing with modal; OHE\n",
        "categorical_features = ['region', 'sub-region']\n",
        "\n",
        "categorical_transformer = Pipeline(steps=[\n",
        "    ('imputer', SimpleImputer(strategy='most_frequent')),\n",
        "    ('onehot', OneHotEncoder(handle_unknown='ignore'))])\n",
        "\n",
        "# final preprocessor object set up with ColumnTransformer\n",
        "preprocessor = ColumnTransformer(\n",
        "    transformers=[\n",
        "        ('num', numeric_transformer, numeric_features),\n",
        "        ('cat', categorical_transformer, categorical_features)])\n",
        "\n",
        "#Fit your preprocessor object\n",
        "preprocess=preprocessor.fit(X_train) \n",
        "\n",
        "# Write function to transform data with preprocessor\n",
        "\n",
        "def preprocessor(data):\n",
        "    data.drop(['Country or region', 'name'], axis=1)\n",
        "    preprocessed_data=preprocess.transform(data)\n",
        "    return preprocessed_data"
      ],
      "metadata": {
        "id": "zNXnOGBqTWTL"
      },
      "execution_count": 10,
      "outputs": []
    },
    {
      "cell_type": "code",
      "source": [
        "import aimodelshare as ai\n",
        "ai.export_preprocessor(preprocessor,\"\") "
      ],
      "metadata": {
        "id": "inO1XaPa0ObX"
      },
      "execution_count": null,
      "outputs": []
    },
    {
      "cell_type": "code",
      "source": [
        "num_columns = numeric_features\n",
        "cat_columns = preprocess.named_transformers_['cat'].named_steps['onehot'].get_feature_names().tolist()\n",
        "prepro_names = num_columns + cat_columns\n",
        "prepro_columns = np.array(prepro_names)\n",
        "print(prepro_columns)"
      ],
      "metadata": {
        "colab": {
          "base_uri": "https://localhost:8080/"
        },
        "id": "4mhAn-_e5drq",
        "outputId": "79e608d9-de00-4485-9be8-b28edb89afc8"
      },
      "execution_count": 11,
      "outputs": [
        {
          "output_type": "stream",
          "name": "stdout",
          "text": [
            "['GDP per capita' 'Social support' 'Healthy life expectancy'\n",
            " 'Freedom to make life choices' 'Generosity' 'Perceptions of corruption'\n",
            " 'Terrorist_attacks' 'x0_Africa' 'x0_Americas' 'x0_Asia' 'x0_Europe'\n",
            " 'x0_Oceania' 'x1_Australia and New Zealand' 'x1_Central Asia'\n",
            " 'x1_Eastern Asia' 'x1_Eastern Europe'\n",
            " 'x1_Latin America and the Caribbean' 'x1_Northern Africa'\n",
            " 'x1_Northern America' 'x1_Northern Europe' 'x1_South-eastern Asia'\n",
            " 'x1_Southern Asia' 'x1_Southern Europe' 'x1_Sub-Saharan Africa'\n",
            " 'x1_Western Asia' 'x1_Western Europe']\n"
          ]
        },
        {
          "output_type": "stream",
          "name": "stderr",
          "text": [
            "/usr/local/lib/python3.8/dist-packages/sklearn/utils/deprecation.py:87: FutureWarning: Function get_feature_names is deprecated; get_feature_names is deprecated in 1.0 and will be removed in 1.2. Please use get_feature_names_out instead.\n",
            "  return fun(*args, **kwargs)\n"
          ]
        }
      ]
    },
    {
      "cell_type": "markdown",
      "source": [
        "# EDA: Feature importance models"
      ],
      "metadata": {
        "id": "KOjWSFed3YjW"
      }
    },
    {
      "cell_type": "code",
      "source": [
        "from sklearn.linear_model import LogisticRegression\n",
        "from sklearn.tree import DecisionTreeClassifier\n",
        "\n",
        "logreg = LogisticRegression(penalty='l1', solver='liblinear')\n",
        "logreg.fit(preprocessor(X_train), y_train_labels)\n",
        "print(\"Log Reg (l1 penalty) numeric feature coefs\")\n",
        "names = (pd.Series(prepro_columns, name='Category'))\n",
        "coefs = (pd.DataFrame(logreg.coef_).T)\n",
        "lrc = pd.concat((names, coefs), axis=1)\n",
        "lrc = lrc.rename({0:'Very Low', 1:'Low', 2:'Average', 3:'High', 4: 'Very High'}, axis=1)\n",
        "display(lrc)\n",
        "\n",
        "lrc.plot(kind='bar')\n",
        "plt.title('L1 penalized logreg coefficients, colored by happiness level')\n",
        "plt.axes().set_xticklabels(prepro_columns)\n",
        "plt.show()\n",
        "\n",
        "print('\\n')\n",
        "\n",
        "tree = DecisionTreeClassifier()\n",
        "tree.fit(preprocessor(X_train), y_train)\n",
        "print(\"Decision Tree feature importances\")\n",
        "coefs = pd.DataFrame(tree.feature_importances_)\n",
        "names = (pd.Series(prepro_columns, name='Category'))\n",
        "trc = pd.concat((names, coefs), axis=1)\n",
        "display(trc)\n",
        "\n",
        "trc.plot(kind='bar')\n",
        "plt.title('Decision tree feature importances for numeric features predicting happiness')\n",
        "plt.axes().set_xticklabels(prepro_columns)\n",
        "plt.show()"
      ],
      "metadata": {
        "colab": {
          "base_uri": "https://localhost:8080/",
          "height": 1000
        },
        "id": "MAVqSF9S3ap8",
        "outputId": "6288710e-22dc-4b14-dc38-62c561185ae3"
      },
      "execution_count": 12,
      "outputs": [
        {
          "metadata": {
            "tags": null
          },
          "name": "stdout",
          "output_type": "stream",
          "text": [
            "Log Reg (l1 penalty) numeric feature coefs\n"
          ]
        },
        {
          "data": {
            "text/html": [
              "\n",
              "  <div id=\"df-90d9fda9-a105-4a8a-bdff-a714bf6e00b6\">\n",
              "    <div class=\"colab-df-container\">\n",
              "      <div>\n",
              "<style scoped>\n",
              "    .dataframe tbody tr th:only-of-type {\n",
              "        vertical-align: middle;\n",
              "    }\n",
              "\n",
              "    .dataframe tbody tr th {\n",
              "        vertical-align: top;\n",
              "    }\n",
              "\n",
              "    .dataframe thead th {\n",
              "        text-align: right;\n",
              "    }\n",
              "</style>\n",
              "<table border=\"1\" class=\"dataframe\">\n",
              "  <thead>\n",
              "    <tr style=\"text-align: right;\">\n",
              "      <th></th>\n",
              "      <th>Category</th>\n",
              "      <th>Very Low</th>\n",
              "      <th>Low</th>\n",
              "      <th>Average</th>\n",
              "      <th>High</th>\n",
              "      <th>Very High</th>\n",
              "    </tr>\n",
              "  </thead>\n",
              "  <tbody>\n",
              "    <tr>\n",
              "      <th>0</th>\n",
              "      <td>GDP per capita</td>\n",
              "      <td>0.000000</td>\n",
              "      <td>0.000000</td>\n",
              "      <td>0.000000</td>\n",
              "      <td>2.032648</td>\n",
              "      <td>-1.437328</td>\n",
              "    </tr>\n",
              "    <tr>\n",
              "      <th>1</th>\n",
              "      <td>Social support</td>\n",
              "      <td>0.000000</td>\n",
              "      <td>1.610069</td>\n",
              "      <td>0.000000</td>\n",
              "      <td>0.000000</td>\n",
              "      <td>-0.450175</td>\n",
              "    </tr>\n",
              "    <tr>\n",
              "      <th>2</th>\n",
              "      <td>Healthy life expectancy</td>\n",
              "      <td>0.000000</td>\n",
              "      <td>0.552753</td>\n",
              "      <td>-0.593181</td>\n",
              "      <td>0.000000</td>\n",
              "      <td>-0.077387</td>\n",
              "    </tr>\n",
              "    <tr>\n",
              "      <th>3</th>\n",
              "      <td>Freedom to make life choices</td>\n",
              "      <td>-0.172181</td>\n",
              "      <td>0.487730</td>\n",
              "      <td>0.000000</td>\n",
              "      <td>0.256341</td>\n",
              "      <td>-0.196236</td>\n",
              "    </tr>\n",
              "    <tr>\n",
              "      <th>4</th>\n",
              "      <td>Generosity</td>\n",
              "      <td>-0.149644</td>\n",
              "      <td>-0.595073</td>\n",
              "      <td>-0.200462</td>\n",
              "      <td>0.868630</td>\n",
              "      <td>0.292799</td>\n",
              "    </tr>\n",
              "    <tr>\n",
              "      <th>5</th>\n",
              "      <td>Perceptions of corruption</td>\n",
              "      <td>-0.290541</td>\n",
              "      <td>-0.837622</td>\n",
              "      <td>-0.586587</td>\n",
              "      <td>0.506375</td>\n",
              "      <td>0.278833</td>\n",
              "    </tr>\n",
              "    <tr>\n",
              "      <th>6</th>\n",
              "      <td>Terrorist_attacks</td>\n",
              "      <td>-0.014919</td>\n",
              "      <td>0.000000</td>\n",
              "      <td>-1.226347</td>\n",
              "      <td>0.000000</td>\n",
              "      <td>1.078553</td>\n",
              "    </tr>\n",
              "    <tr>\n",
              "      <th>7</th>\n",
              "      <td>x0_Africa</td>\n",
              "      <td>0.000000</td>\n",
              "      <td>-1.003229</td>\n",
              "      <td>0.000000</td>\n",
              "      <td>0.000000</td>\n",
              "      <td>0.000000</td>\n",
              "    </tr>\n",
              "    <tr>\n",
              "      <th>8</th>\n",
              "      <td>x0_Americas</td>\n",
              "      <td>-0.344416</td>\n",
              "      <td>0.000000</td>\n",
              "      <td>-0.483303</td>\n",
              "      <td>0.000000</td>\n",
              "      <td>0.000000</td>\n",
              "    </tr>\n",
              "    <tr>\n",
              "      <th>9</th>\n",
              "      <td>x0_Asia</td>\n",
              "      <td>0.000000</td>\n",
              "      <td>0.000000</td>\n",
              "      <td>0.029127</td>\n",
              "      <td>-1.580596</td>\n",
              "      <td>0.000000</td>\n",
              "    </tr>\n",
              "    <tr>\n",
              "      <th>10</th>\n",
              "      <td>x0_Europe</td>\n",
              "      <td>0.000000</td>\n",
              "      <td>-0.854492</td>\n",
              "      <td>-1.079765</td>\n",
              "      <td>0.000000</td>\n",
              "      <td>0.000000</td>\n",
              "    </tr>\n",
              "    <tr>\n",
              "      <th>11</th>\n",
              "      <td>x0_Oceania</td>\n",
              "      <td>0.000000</td>\n",
              "      <td>0.000000</td>\n",
              "      <td>0.000000</td>\n",
              "      <td>0.000000</td>\n",
              "      <td>0.000000</td>\n",
              "    </tr>\n",
              "    <tr>\n",
              "      <th>12</th>\n",
              "      <td>x1_Australia and New Zealand</td>\n",
              "      <td>0.000000</td>\n",
              "      <td>0.000000</td>\n",
              "      <td>0.000000</td>\n",
              "      <td>0.000000</td>\n",
              "      <td>0.000000</td>\n",
              "    </tr>\n",
              "    <tr>\n",
              "      <th>13</th>\n",
              "      <td>x1_Central Asia</td>\n",
              "      <td>0.000000</td>\n",
              "      <td>0.000000</td>\n",
              "      <td>0.000000</td>\n",
              "      <td>0.000000</td>\n",
              "      <td>0.000000</td>\n",
              "    </tr>\n",
              "    <tr>\n",
              "      <th>14</th>\n",
              "      <td>x1_Eastern Asia</td>\n",
              "      <td>0.000000</td>\n",
              "      <td>0.000000</td>\n",
              "      <td>0.000000</td>\n",
              "      <td>0.000000</td>\n",
              "      <td>0.000000</td>\n",
              "    </tr>\n",
              "    <tr>\n",
              "      <th>15</th>\n",
              "      <td>x1_Eastern Europe</td>\n",
              "      <td>0.000000</td>\n",
              "      <td>0.224124</td>\n",
              "      <td>0.000000</td>\n",
              "      <td>0.000000</td>\n",
              "      <td>0.000000</td>\n",
              "    </tr>\n",
              "    <tr>\n",
              "      <th>16</th>\n",
              "      <td>x1_Latin America and the Caribbean</td>\n",
              "      <td>0.000000</td>\n",
              "      <td>0.089924</td>\n",
              "      <td>0.000000</td>\n",
              "      <td>0.000000</td>\n",
              "      <td>0.000000</td>\n",
              "    </tr>\n",
              "    <tr>\n",
              "      <th>17</th>\n",
              "      <td>x1_Northern Africa</td>\n",
              "      <td>1.075317</td>\n",
              "      <td>0.000000</td>\n",
              "      <td>0.000000</td>\n",
              "      <td>0.000000</td>\n",
              "      <td>0.000000</td>\n",
              "    </tr>\n",
              "    <tr>\n",
              "      <th>18</th>\n",
              "      <td>x1_Northern America</td>\n",
              "      <td>0.000000</td>\n",
              "      <td>0.000000</td>\n",
              "      <td>0.000000</td>\n",
              "      <td>0.000000</td>\n",
              "      <td>0.000000</td>\n",
              "    </tr>\n",
              "    <tr>\n",
              "      <th>19</th>\n",
              "      <td>x1_Northern Europe</td>\n",
              "      <td>0.000000</td>\n",
              "      <td>0.000000</td>\n",
              "      <td>0.000000</td>\n",
              "      <td>0.000000</td>\n",
              "      <td>0.000000</td>\n",
              "    </tr>\n",
              "    <tr>\n",
              "      <th>20</th>\n",
              "      <td>x1_South-eastern Asia</td>\n",
              "      <td>0.000000</td>\n",
              "      <td>0.000000</td>\n",
              "      <td>0.000000</td>\n",
              "      <td>-0.704238</td>\n",
              "      <td>0.000000</td>\n",
              "    </tr>\n",
              "    <tr>\n",
              "      <th>21</th>\n",
              "      <td>x1_Southern Asia</td>\n",
              "      <td>0.000000</td>\n",
              "      <td>0.000000</td>\n",
              "      <td>0.512580</td>\n",
              "      <td>0.000000</td>\n",
              "      <td>0.000000</td>\n",
              "    </tr>\n",
              "    <tr>\n",
              "      <th>22</th>\n",
              "      <td>x1_Southern Europe</td>\n",
              "      <td>0.850356</td>\n",
              "      <td>0.000000</td>\n",
              "      <td>0.000000</td>\n",
              "      <td>0.000000</td>\n",
              "      <td>0.000000</td>\n",
              "    </tr>\n",
              "    <tr>\n",
              "      <th>23</th>\n",
              "      <td>x1_Sub-Saharan Africa</td>\n",
              "      <td>-1.079042</td>\n",
              "      <td>0.000000</td>\n",
              "      <td>0.000000</td>\n",
              "      <td>0.000000</td>\n",
              "      <td>0.000000</td>\n",
              "    </tr>\n",
              "    <tr>\n",
              "      <th>24</th>\n",
              "      <td>x1_Western Asia</td>\n",
              "      <td>0.000000</td>\n",
              "      <td>0.000000</td>\n",
              "      <td>0.000000</td>\n",
              "      <td>0.000000</td>\n",
              "      <td>0.000000</td>\n",
              "    </tr>\n",
              "    <tr>\n",
              "      <th>25</th>\n",
              "      <td>x1_Western Europe</td>\n",
              "      <td>0.000000</td>\n",
              "      <td>-0.297840</td>\n",
              "      <td>0.000000</td>\n",
              "      <td>0.457900</td>\n",
              "      <td>0.000000</td>\n",
              "    </tr>\n",
              "  </tbody>\n",
              "</table>\n",
              "</div>\n",
              "      <button class=\"colab-df-convert\" onclick=\"convertToInteractive('df-90d9fda9-a105-4a8a-bdff-a714bf6e00b6')\"\n",
              "              title=\"Convert this dataframe to an interactive table.\"\n",
              "              style=\"display:none;\">\n",
              "        \n",
              "  <svg xmlns=\"http://www.w3.org/2000/svg\" height=\"24px\"viewBox=\"0 0 24 24\"\n",
              "       width=\"24px\">\n",
              "    <path d=\"M0 0h24v24H0V0z\" fill=\"none\"/>\n",
              "    <path d=\"M18.56 5.44l.94 2.06.94-2.06 2.06-.94-2.06-.94-.94-2.06-.94 2.06-2.06.94zm-11 1L8.5 8.5l.94-2.06 2.06-.94-2.06-.94L8.5 2.5l-.94 2.06-2.06.94zm10 10l.94 2.06.94-2.06 2.06-.94-2.06-.94-.94-2.06-.94 2.06-2.06.94z\"/><path d=\"M17.41 7.96l-1.37-1.37c-.4-.4-.92-.59-1.43-.59-.52 0-1.04.2-1.43.59L10.3 9.45l-7.72 7.72c-.78.78-.78 2.05 0 2.83L4 21.41c.39.39.9.59 1.41.59.51 0 1.02-.2 1.41-.59l7.78-7.78 2.81-2.81c.8-.78.8-2.07 0-2.86zM5.41 20L4 18.59l7.72-7.72 1.47 1.35L5.41 20z\"/>\n",
              "  </svg>\n",
              "      </button>\n",
              "      \n",
              "  <style>\n",
              "    .colab-df-container {\n",
              "      display:flex;\n",
              "      flex-wrap:wrap;\n",
              "      gap: 12px;\n",
              "    }\n",
              "\n",
              "    .colab-df-convert {\n",
              "      background-color: #E8F0FE;\n",
              "      border: none;\n",
              "      border-radius: 50%;\n",
              "      cursor: pointer;\n",
              "      display: none;\n",
              "      fill: #1967D2;\n",
              "      height: 32px;\n",
              "      padding: 0 0 0 0;\n",
              "      width: 32px;\n",
              "    }\n",
              "\n",
              "    .colab-df-convert:hover {\n",
              "      background-color: #E2EBFA;\n",
              "      box-shadow: 0px 1px 2px rgba(60, 64, 67, 0.3), 0px 1px 3px 1px rgba(60, 64, 67, 0.15);\n",
              "      fill: #174EA6;\n",
              "    }\n",
              "\n",
              "    [theme=dark] .colab-df-convert {\n",
              "      background-color: #3B4455;\n",
              "      fill: #D2E3FC;\n",
              "    }\n",
              "\n",
              "    [theme=dark] .colab-df-convert:hover {\n",
              "      background-color: #434B5C;\n",
              "      box-shadow: 0px 1px 3px 1px rgba(0, 0, 0, 0.15);\n",
              "      filter: drop-shadow(0px 1px 2px rgba(0, 0, 0, 0.3));\n",
              "      fill: #FFFFFF;\n",
              "    }\n",
              "  </style>\n",
              "\n",
              "      <script>\n",
              "        const buttonEl =\n",
              "          document.querySelector('#df-90d9fda9-a105-4a8a-bdff-a714bf6e00b6 button.colab-df-convert');\n",
              "        buttonEl.style.display =\n",
              "          google.colab.kernel.accessAllowed ? 'block' : 'none';\n",
              "\n",
              "        async function convertToInteractive(key) {\n",
              "          const element = document.querySelector('#df-90d9fda9-a105-4a8a-bdff-a714bf6e00b6');\n",
              "          const dataTable =\n",
              "            await google.colab.kernel.invokeFunction('convertToInteractive',\n",
              "                                                     [key], {});\n",
              "          if (!dataTable) return;\n",
              "\n",
              "          const docLinkHtml = 'Like what you see? Visit the ' +\n",
              "            '<a target=\"_blank\" href=https://colab.research.google.com/notebooks/data_table.ipynb>data table notebook</a>'\n",
              "            + ' to learn more about interactive tables.';\n",
              "          element.innerHTML = '';\n",
              "          dataTable['output_type'] = 'display_data';\n",
              "          await google.colab.output.renderOutput(dataTable, element);\n",
              "          const docLink = document.createElement('div');\n",
              "          docLink.innerHTML = docLinkHtml;\n",
              "          element.appendChild(docLink);\n",
              "        }\n",
              "      </script>\n",
              "    </div>\n",
              "  </div>\n",
              "  "
            ],
            "text/plain": [
              "                              Category  Very Low       Low   Average  \\\n",
              "0                       GDP per capita  0.000000  0.000000  0.000000   \n",
              "1                       Social support  0.000000  1.610069  0.000000   \n",
              "2              Healthy life expectancy  0.000000  0.552753 -0.593181   \n",
              "3         Freedom to make life choices -0.172181  0.487730  0.000000   \n",
              "4                           Generosity -0.149644 -0.595073 -0.200462   \n",
              "5            Perceptions of corruption -0.290541 -0.837622 -0.586587   \n",
              "6                    Terrorist_attacks -0.014919  0.000000 -1.226347   \n",
              "7                            x0_Africa  0.000000 -1.003229  0.000000   \n",
              "8                          x0_Americas -0.344416  0.000000 -0.483303   \n",
              "9                              x0_Asia  0.000000  0.000000  0.029127   \n",
              "10                           x0_Europe  0.000000 -0.854492 -1.079765   \n",
              "11                          x0_Oceania  0.000000  0.000000  0.000000   \n",
              "12        x1_Australia and New Zealand  0.000000  0.000000  0.000000   \n",
              "13                     x1_Central Asia  0.000000  0.000000  0.000000   \n",
              "14                     x1_Eastern Asia  0.000000  0.000000  0.000000   \n",
              "15                   x1_Eastern Europe  0.000000  0.224124  0.000000   \n",
              "16  x1_Latin America and the Caribbean  0.000000  0.089924  0.000000   \n",
              "17                  x1_Northern Africa  1.075317  0.000000  0.000000   \n",
              "18                 x1_Northern America  0.000000  0.000000  0.000000   \n",
              "19                  x1_Northern Europe  0.000000  0.000000  0.000000   \n",
              "20               x1_South-eastern Asia  0.000000  0.000000  0.000000   \n",
              "21                    x1_Southern Asia  0.000000  0.000000  0.512580   \n",
              "22                  x1_Southern Europe  0.850356  0.000000  0.000000   \n",
              "23               x1_Sub-Saharan Africa -1.079042  0.000000  0.000000   \n",
              "24                     x1_Western Asia  0.000000  0.000000  0.000000   \n",
              "25                   x1_Western Europe  0.000000 -0.297840  0.000000   \n",
              "\n",
              "        High  Very High  \n",
              "0   2.032648  -1.437328  \n",
              "1   0.000000  -0.450175  \n",
              "2   0.000000  -0.077387  \n",
              "3   0.256341  -0.196236  \n",
              "4   0.868630   0.292799  \n",
              "5   0.506375   0.278833  \n",
              "6   0.000000   1.078553  \n",
              "7   0.000000   0.000000  \n",
              "8   0.000000   0.000000  \n",
              "9  -1.580596   0.000000  \n",
              "10  0.000000   0.000000  \n",
              "11  0.000000   0.000000  \n",
              "12  0.000000   0.000000  \n",
              "13  0.000000   0.000000  \n",
              "14  0.000000   0.000000  \n",
              "15  0.000000   0.000000  \n",
              "16  0.000000   0.000000  \n",
              "17  0.000000   0.000000  \n",
              "18  0.000000   0.000000  \n",
              "19  0.000000   0.000000  \n",
              "20 -0.704238   0.000000  \n",
              "21  0.000000   0.000000  \n",
              "22  0.000000   0.000000  \n",
              "23  0.000000   0.000000  \n",
              "24  0.000000   0.000000  \n",
              "25  0.457900   0.000000  "
            ]
          },
          "metadata": {},
          "output_type": "display_data"
        },
        {
          "metadata": {
            "tags": null
          },
          "name": "stderr",
          "output_type": "stream",
          "text": [
            "<ipython-input-12-a324e1e9633f>:15: MatplotlibDeprecationWarning: Adding an axes using the same arguments as a previous axes currently reuses the earlier instance.  In a future version, a new instance will always be created and returned.  Meanwhile, this warning can be suppressed, and the future behavior ensured, by passing a unique label to each axes instance.\n",
            "  plt.axes().set_xticklabels(prepro_columns)\n"
          ]
        },
        {
          "data": {
            "image/png": "[encoded data removed]",
            "text/plain": [
              "<Figure size 432x288 with 1 Axes>"
            ]
          },
          "metadata": {},
          "output_type": "display_data"
        },
        {
          "metadata": {
            "tags": null
          },
          "name": "stdout",
          "output_type": "stream",
          "text": [
            "\n",
            "\n",
            "Decision Tree feature importances\n"
          ]
        },
        {
          "data": {
            "text/html": [
              "\n",
              "  <div id=\"df-1ee1c610-35dd-499a-b123-4175c379a361\">\n",
              "    <div class=\"colab-df-container\">\n",
              "      <div>\n",
              "<style scoped>\n",
              "    .dataframe tbody tr th:only-of-type {\n",
              "        vertical-align: middle;\n",
              "    }\n",
              "\n",
              "    .dataframe tbody tr th {\n",
              "        vertical-align: top;\n",
              "    }\n",
              "\n",
              "    .dataframe thead th {\n",
              "        text-align: right;\n",
              "    }\n",
              "</style>\n",
              "<table border=\"1\" class=\"dataframe\">\n",
              "  <thead>\n",
              "    <tr style=\"text-align: right;\">\n",
              "      <th></th>\n",
              "      <th>Category</th>\n",
              "      <th>0</th>\n",
              "    </tr>\n",
              "  </thead>\n",
              "  <tbody>\n",
              "    <tr>\n",
              "      <th>0</th>\n",
              "      <td>GDP per capita</td>\n",
              "      <td>0.288551</td>\n",
              "    </tr>\n",
              "    <tr>\n",
              "      <th>1</th>\n",
              "      <td>Social support</td>\n",
              "      <td>0.175354</td>\n",
              "    </tr>\n",
              "    <tr>\n",
              "      <th>2</th>\n",
              "      <td>Healthy life expectancy</td>\n",
              "      <td>0.177659</td>\n",
              "    </tr>\n",
              "    <tr>\n",
              "      <th>3</th>\n",
              "      <td>Freedom to make life choices</td>\n",
              "      <td>0.039961</td>\n",
              "    </tr>\n",
              "    <tr>\n",
              "      <th>4</th>\n",
              "      <td>Generosity</td>\n",
              "      <td>0.088053</td>\n",
              "    </tr>\n",
              "    <tr>\n",
              "      <th>5</th>\n",
              "      <td>Perceptions of corruption</td>\n",
              "      <td>0.056679</td>\n",
              "    </tr>\n",
              "    <tr>\n",
              "      <th>6</th>\n",
              "      <td>Terrorist_attacks</td>\n",
              "      <td>0.057880</td>\n",
              "    </tr>\n",
              "    <tr>\n",
              "      <th>7</th>\n",
              "      <td>x0_Africa</td>\n",
              "      <td>0.000000</td>\n",
              "    </tr>\n",
              "    <tr>\n",
              "      <th>8</th>\n",
              "      <td>x0_Americas</td>\n",
              "      <td>0.042730</td>\n",
              "    </tr>\n",
              "    <tr>\n",
              "      <th>9</th>\n",
              "      <td>x0_Asia</td>\n",
              "      <td>0.000000</td>\n",
              "    </tr>\n",
              "    <tr>\n",
              "      <th>10</th>\n",
              "      <td>x0_Europe</td>\n",
              "      <td>0.000000</td>\n",
              "    </tr>\n",
              "    <tr>\n",
              "      <th>11</th>\n",
              "      <td>x0_Oceania</td>\n",
              "      <td>0.000000</td>\n",
              "    </tr>\n",
              "    <tr>\n",
              "      <th>12</th>\n",
              "      <td>x1_Australia and New Zealand</td>\n",
              "      <td>0.000000</td>\n",
              "    </tr>\n",
              "    <tr>\n",
              "      <th>13</th>\n",
              "      <td>x1_Central Asia</td>\n",
              "      <td>0.000000</td>\n",
              "    </tr>\n",
              "    <tr>\n",
              "      <th>14</th>\n",
              "      <td>x1_Eastern Asia</td>\n",
              "      <td>0.000000</td>\n",
              "    </tr>\n",
              "    <tr>\n",
              "      <th>15</th>\n",
              "      <td>x1_Eastern Europe</td>\n",
              "      <td>0.014272</td>\n",
              "    </tr>\n",
              "    <tr>\n",
              "      <th>16</th>\n",
              "      <td>x1_Latin America and the Caribbean</td>\n",
              "      <td>0.000000</td>\n",
              "    </tr>\n",
              "    <tr>\n",
              "      <th>17</th>\n",
              "      <td>x1_Northern Africa</td>\n",
              "      <td>0.000000</td>\n",
              "    </tr>\n",
              "    <tr>\n",
              "      <th>18</th>\n",
              "      <td>x1_Northern America</td>\n",
              "      <td>0.000000</td>\n",
              "    </tr>\n",
              "    <tr>\n",
              "      <th>19</th>\n",
              "      <td>x1_Northern Europe</td>\n",
              "      <td>0.000000</td>\n",
              "    </tr>\n",
              "    <tr>\n",
              "      <th>20</th>\n",
              "      <td>x1_South-eastern Asia</td>\n",
              "      <td>0.000000</td>\n",
              "    </tr>\n",
              "    <tr>\n",
              "      <th>21</th>\n",
              "      <td>x1_Southern Asia</td>\n",
              "      <td>0.030860</td>\n",
              "    </tr>\n",
              "    <tr>\n",
              "      <th>22</th>\n",
              "      <td>x1_Southern Europe</td>\n",
              "      <td>0.000000</td>\n",
              "    </tr>\n",
              "    <tr>\n",
              "      <th>23</th>\n",
              "      <td>x1_Sub-Saharan Africa</td>\n",
              "      <td>0.000000</td>\n",
              "    </tr>\n",
              "    <tr>\n",
              "      <th>24</th>\n",
              "      <td>x1_Western Asia</td>\n",
              "      <td>0.028000</td>\n",
              "    </tr>\n",
              "    <tr>\n",
              "      <th>25</th>\n",
              "      <td>x1_Western Europe</td>\n",
              "      <td>0.000000</td>\n",
              "    </tr>\n",
              "  </tbody>\n",
              "</table>\n",
              "</div>\n",
              "      <button class=\"colab-df-convert\" onclick=\"convertToInteractive('df-1ee1c610-35dd-499a-b123-4175c379a361')\"\n",
              "              title=\"Convert this dataframe to an interactive table.\"\n",
              "              style=\"display:none;\">\n",
              "        \n",
              "  <svg xmlns=\"http://www.w3.org/2000/svg\" height=\"24px\"viewBox=\"0 0 24 24\"\n",
              "       width=\"24px\">\n",
              "    <path d=\"M0 0h24v24H0V0z\" fill=\"none\"/>\n",
              "    <path d=\"M18.56 5.44l.94 2.06.94-2.06 2.06-.94-2.06-.94-.94-2.06-.94 2.06-2.06.94zm-11 1L8.5 8.5l.94-2.06 2.06-.94-2.06-.94L8.5 2.5l-.94 2.06-2.06.94zm10 10l.94 2.06.94-2.06 2.06-.94-2.06-.94-.94-2.06-.94 2.06-2.06.94z\"/><path d=\"M17.41 7.96l-1.37-1.37c-.4-.4-.92-.59-1.43-.59-.52 0-1.04.2-1.43.59L10.3 9.45l-7.72 7.72c-.78.78-.78 2.05 0 2.83L4 21.41c.39.39.9.59 1.41.59.51 0 1.02-.2 1.41-.59l7.78-7.78 2.81-2.81c.8-.78.8-2.07 0-2.86zM5.41 20L4 18.59l7.72-7.72 1.47 1.35L5.41 20z\"/>\n",
              "  </svg>\n",
              "      </button>\n",
              "      \n",
              "  <style>\n",
              "    .colab-df-container {\n",
              "      display:flex;\n",
              "      flex-wrap:wrap;\n",
              "      gap: 12px;\n",
              "    }\n",
              "\n",
              "    .colab-df-convert {\n",
              "      background-color: #E8F0FE;\n",
              "      border: none;\n",
              "      border-radius: 50%;\n",
              "      cursor: pointer;\n",
              "      display: none;\n",
              "      fill: #1967D2;\n",
              "      height: 32px;\n",
              "      padding: 0 0 0 0;\n",
              "      width: 32px;\n",
              "    }\n",
              "\n",
              "    .colab-df-convert:hover {\n",
              "      background-color: #E2EBFA;\n",
              "      box-shadow: 0px 1px 2px rgba(60, 64, 67, 0.3), 0px 1px 3px 1px rgba(60, 64, 67, 0.15);\n",
              "      fill: #174EA6;\n",
              "    }\n",
              "\n",
              "    [theme=dark] .colab-df-convert {\n",
              "      background-color: #3B4455;\n",
              "      fill: #D2E3FC;\n",
              "    }\n",
              "\n",
              "    [theme=dark] .colab-df-convert:hover {\n",
              "      background-color: #434B5C;\n",
              "      box-shadow: 0px 1px 3px 1px rgba(0, 0, 0, 0.15);\n",
              "      filter: drop-shadow(0px 1px 2px rgba(0, 0, 0, 0.3));\n",
              "      fill: #FFFFFF;\n",
              "    }\n",
              "  </style>\n",
              "\n",
              "      <script>\n",
              "        const buttonEl =\n",
              "          document.querySelector('#df-1ee1c610-35dd-499a-b123-4175c379a361 button.colab-df-convert');\n",
              "        buttonEl.style.display =\n",
              "          google.colab.kernel.accessAllowed ? 'block' : 'none';\n",
              "\n",
              "        async function convertToInteractive(key) {\n",
              "          const element = document.querySelector('#df-1ee1c610-35dd-499a-b123-4175c379a361');\n",
              "          const dataTable =\n",
              "            await google.colab.kernel.invokeFunction('convertToInteractive',\n",
              "                                                     [key], {});\n",
              "          if (!dataTable) return;\n",
              "\n",
              "          const docLinkHtml = 'Like what you see? Visit the ' +\n",
              "            '<a target=\"_blank\" href=https://colab.research.google.com/notebooks/data_table.ipynb>data table notebook</a>'\n",
              "            + ' to learn more about interactive tables.';\n",
              "          element.innerHTML = '';\n",
              "          dataTable['output_type'] = 'display_data';\n",
              "          await google.colab.output.renderOutput(dataTable, element);\n",
              "          const docLink = document.createElement('div');\n",
              "          docLink.innerHTML = docLinkHtml;\n",
              "          element.appendChild(docLink);\n",
              "        }\n",
              "      </script>\n",
              "    </div>\n",
              "  </div>\n",
              "  "
            ],
            "text/plain": [
              "                              Category         0\n",
              "0                       GDP per capita  0.288551\n",
              "1                       Social support  0.175354\n",
              "2              Healthy life expectancy  0.177659\n",
              "3         Freedom to make life choices  0.039961\n",
              "4                           Generosity  0.088053\n",
              "5            Perceptions of corruption  0.056679\n",
              "6                    Terrorist_attacks  0.057880\n",
              "7                            x0_Africa  0.000000\n",
              "8                          x0_Americas  0.042730\n",
              "9                              x0_Asia  0.000000\n",
              "10                           x0_Europe  0.000000\n",
              "11                          x0_Oceania  0.000000\n",
              "12        x1_Australia and New Zealand  0.000000\n",
              "13                     x1_Central Asia  0.000000\n",
              "14                     x1_Eastern Asia  0.000000\n",
              "15                   x1_Eastern Europe  0.014272\n",
              "16  x1_Latin America and the Caribbean  0.000000\n",
              "17                  x1_Northern Africa  0.000000\n",
              "18                 x1_Northern America  0.000000\n",
              "19                  x1_Northern Europe  0.000000\n",
              "20               x1_South-eastern Asia  0.000000\n",
              "21                    x1_Southern Asia  0.030860\n",
              "22                  x1_Southern Europe  0.000000\n",
              "23               x1_Sub-Saharan Africa  0.000000\n",
              "24                     x1_Western Asia  0.028000\n",
              "25                   x1_Western Europe  0.000000"
            ]
          },
          "metadata": {},
          "output_type": "display_data"
        },
        {
          "metadata": {
            "tags": null
          },
          "name": "stderr",
          "output_type": "stream",
          "text": [
            "<ipython-input-12-a324e1e9633f>:30: MatplotlibDeprecationWarning: Adding an axes using the same arguments as a previous axes currently reuses the earlier instance.  In a future version, a new instance will always be created and returned.  Meanwhile, this warning can be suppressed, and the future behavior ensured, by passing a unique label to each axes instance.\n",
            "  plt.axes().set_xticklabels(prepro_columns)\n"
          ]
        },
        {
          "data": {
            "image/png": "[encoded data removed]",
            "text/plain": [
              "<Figure size 432x288 with 1 Axes>"
            ]
          },
          "metadata": {},
          "output_type": "display_data"
        }
      ]
    },
    {
      "cell_type": "markdown",
      "source": [
        "Here, models were run that perform intrinsic feature selection. \n",
        "\n",
        "In the l1 penalized logreg, the coefficient sizes are compared. This model was chosen because coefficients are deflated and it performs intrinsic feature selection.\n",
        "\n",
        "Decision trees also perform intrinsic feature selection. Here, the feature importance (not coefficient size) is compared directly.\n",
        "\n",
        "The models show similar findings. GDP per capita and social support are important factors in predicting happiness, and Generosity is not an important factor. \n",
        "\n",
        "Finally, by way of EDA, KMeans Clustering was run (below) to find potential clusters."
      ],
      "metadata": {
        "id": "TZMHlImHLfCM"
      }
    },
    {
      "cell_type": "code",
      "source": [
        "from sklearn.cluster import KMeans\n",
        "\n",
        "X_use = pd.concat((X_train[numeric_features].copy(), y_train), axis=1)\n",
        "X_use = pd.DataFrame(X_use)\n",
        "\n",
        "within_cluster_variance = []\n",
        "\n",
        "for k in range(2, 20):\n",
        "    kmeans = KMeans(n_clusters=k)\n",
        "    kmeans.fit(X_use)\n",
        "    within_cluster_variance.append(kmeans.inertia_)\n",
        "\n",
        "fig = plt.figure(figsize=(15, 5))\n",
        "plt.plot(range(2, 20), within_cluster_variance, marker='o')\n",
        "plt.grid(True)\n",
        "plt.xlabel('Number of clusters')\n",
        "plt.xticks([1,2,3,4,5,6,7,8,9,10,11,12,13,14,15,16,17,18,19,20])\n",
        "plt.ylabel('Withon-cluster variation')\n",
        "plt.title('Elbow curve') \n",
        "plt.show()\n",
        "\n",
        "km = KMeans(n_clusters=4, random_state=0)\n",
        "\n",
        "X_use['cluster'] = km.fit_predict(X_use)\n",
        "print(\"Value counts\")\n",
        "display(X_use.groupby('cluster').mean().sort_values('Very High', ascending=False))\n"
      ],
      "metadata": {
        "colab": {
          "base_uri": "https://localhost:8080/",
          "height": 672
        },
        "id": "TGRdkPiV4hEq",
        "outputId": "20be21a2-10e1-4c5c-b9ca-5cd38c9e06d8"
      },
      "execution_count": 13,
      "outputs": [
        {
          "output_type": "display_data",
          "data": {
            "text/plain": [
              "<Figure size 1080x360 with 1 Axes>"
            ],
            "image/png": "[encoded data removed]"
          },
          "metadata": {
            "needs_background": "light"
          }
        },
        {
          "output_type": "stream",
          "name": "stdout",
          "text": [
            "Value counts\n"
          ]
        },
        {
          "output_type": "display_data",
          "data": {
            "text/plain": [
              "         GDP per capita  Social support  Healthy life expectancy  \\\n",
              "cluster                                                            \n",
              "3              1.131000        1.324000                 0.930250   \n",
              "0              0.973479        1.242014                 0.783096   \n",
              "1              0.350000        0.517000                 0.361000   \n",
              "2              0.477100        1.033500                 0.437300   \n",
              "\n",
              "         Freedom to make life choices  Generosity  Perceptions of corruption  \\\n",
              "cluster                                                                        \n",
              "3                            0.356000    0.246750                   0.120000   \n",
              "0                            0.399027    0.179233                   0.121068   \n",
              "1                            0.000000    0.158000                   0.025000   \n",
              "2                            0.282300    0.202500                   0.079100   \n",
              "\n",
              "         Terrorist_attacks   Average     High       Low  Very High  Very Low  \n",
              "cluster                                                                       \n",
              "3               523.826087  0.750000  0.00000  0.000000   0.250000  0.000000  \n",
              "0                50.924658  0.164384  0.30137  0.219178   0.191781  0.123288  \n",
              "1              6023.000000  0.000000  0.00000  0.000000   0.000000  1.000000  \n",
              "2              1427.557143  0.200000  0.00000  0.000000   0.000000  0.800000  "
            ],
            "text/html": [
              "\n",
              "  <div id=\"df-f20758cc-1375-40fb-89c9-fc2367448127\">\n",
              "    <div class=\"colab-df-container\">\n",
              "      <div>\n",
              "<style scoped>\n",
              "    .dataframe tbody tr th:only-of-type {\n",
              "        vertical-align: middle;\n",
              "    }\n",
              "\n",
              "    .dataframe tbody tr th {\n",
              "        vertical-align: top;\n",
              "    }\n",
              "\n",
              "    .dataframe thead th {\n",
              "        text-align: right;\n",
              "    }\n",
              "</style>\n",
              "<table border=\"1\" class=\"dataframe\">\n",
              "  <thead>\n",
              "    <tr style=\"text-align: right;\">\n",
              "      <th></th>\n",
              "      <th>GDP per capita</th>\n",
              "      <th>Social support</th>\n",
              "      <th>Healthy life expectancy</th>\n",
              "      <th>Freedom to make life choices</th>\n",
              "      <th>Generosity</th>\n",
              "      <th>Perceptions of corruption</th>\n",
              "      <th>Terrorist_attacks</th>\n",
              "      <th>Average</th>\n",
              "      <th>High</th>\n",
              "      <th>Low</th>\n",
              "      <th>Very High</th>\n",
              "      <th>Very Low</th>\n",
              "    </tr>\n",
              "    <tr>\n",
              "      <th>cluster</th>\n",
              "      <th></th>\n",
              "      <th></th>\n",
              "      <th></th>\n",
              "      <th></th>\n",
              "      <th></th>\n",
              "      <th></th>\n",
              "      <th></th>\n",
              "      <th></th>\n",
              "      <th></th>\n",
              "      <th></th>\n",
              "      <th></th>\n",
              "      <th></th>\n",
              "    </tr>\n",
              "  </thead>\n",
              "  <tbody>\n",
              "    <tr>\n",
              "      <th>3</th>\n",
              "      <td>1.131000</td>\n",
              "      <td>1.324000</td>\n",
              "      <td>0.930250</td>\n",
              "      <td>0.356000</td>\n",
              "      <td>0.246750</td>\n",
              "      <td>0.120000</td>\n",
              "      <td>523.826087</td>\n",
              "      <td>0.750000</td>\n",
              "      <td>0.00000</td>\n",
              "      <td>0.000000</td>\n",
              "      <td>0.250000</td>\n",
              "      <td>0.000000</td>\n",
              "    </tr>\n",
              "    <tr>\n",
              "      <th>0</th>\n",
              "      <td>0.973479</td>\n",
              "      <td>1.242014</td>\n",
              "      <td>0.783096</td>\n",
              "      <td>0.399027</td>\n",
              "      <td>0.179233</td>\n",
              "      <td>0.121068</td>\n",
              "      <td>50.924658</td>\n",
              "      <td>0.164384</td>\n",
              "      <td>0.30137</td>\n",
              "      <td>0.219178</td>\n",
              "      <td>0.191781</td>\n",
              "      <td>0.123288</td>\n",
              "    </tr>\n",
              "    <tr>\n",
              "      <th>1</th>\n",
              "      <td>0.350000</td>\n",
              "      <td>0.517000</td>\n",
              "      <td>0.361000</td>\n",
              "      <td>0.000000</td>\n",
              "      <td>0.158000</td>\n",
              "      <td>0.025000</td>\n",
              "      <td>6023.000000</td>\n",
              "      <td>0.000000</td>\n",
              "      <td>0.00000</td>\n",
              "      <td>0.000000</td>\n",
              "      <td>0.000000</td>\n",
              "      <td>1.000000</td>\n",
              "    </tr>\n",
              "    <tr>\n",
              "      <th>2</th>\n",
              "      <td>0.477100</td>\n",
              "      <td>1.033500</td>\n",
              "      <td>0.437300</td>\n",
              "      <td>0.282300</td>\n",
              "      <td>0.202500</td>\n",
              "      <td>0.079100</td>\n",
              "      <td>1427.557143</td>\n",
              "      <td>0.200000</td>\n",
              "      <td>0.00000</td>\n",
              "      <td>0.000000</td>\n",
              "      <td>0.000000</td>\n",
              "      <td>0.800000</td>\n",
              "    </tr>\n",
              "  </tbody>\n",
              "</table>\n",
              "</div>\n",
              "      <button class=\"colab-df-convert\" onclick=\"convertToInteractive('df-f20758cc-1375-40fb-89c9-fc2367448127')\"\n",
              "              title=\"Convert this dataframe to an interactive table.\"\n",
              "              style=\"display:none;\">\n",
              "        \n",
              "  <svg xmlns=\"http://www.w3.org/2000/svg\" height=\"24px\"viewBox=\"0 0 24 24\"\n",
              "       width=\"24px\">\n",
              "    <path d=\"M0 0h24v24H0V0z\" fill=\"none\"/>\n",
              "    <path d=\"M18.56 5.44l.94 2.06.94-2.06 2.06-.94-2.06-.94-.94-2.06-.94 2.06-2.06.94zm-11 1L8.5 8.5l.94-2.06 2.06-.94-2.06-.94L8.5 2.5l-.94 2.06-2.06.94zm10 10l.94 2.06.94-2.06 2.06-.94-2.06-.94-.94-2.06-.94 2.06-2.06.94z\"/><path d=\"M17.41 7.96l-1.37-1.37c-.4-.4-.92-.59-1.43-.59-.52 0-1.04.2-1.43.59L10.3 9.45l-7.72 7.72c-.78.78-.78 2.05 0 2.83L4 21.41c.39.39.9.59 1.41.59.51 0 1.02-.2 1.41-.59l7.78-7.78 2.81-2.81c.8-.78.8-2.07 0-2.86zM5.41 20L4 18.59l7.72-7.72 1.47 1.35L5.41 20z\"/>\n",
              "  </svg>\n",
              "      </button>\n",
              "      \n",
              "  <style>\n",
              "    .colab-df-container {\n",
              "      display:flex;\n",
              "      flex-wrap:wrap;\n",
              "      gap: 12px;\n",
              "    }\n",
              "\n",
              "    .colab-df-convert {\n",
              "      background-color: #E8F0FE;\n",
              "      border: none;\n",
              "      border-radius: 50%;\n",
              "      cursor: pointer;\n",
              "      display: none;\n",
              "      fill: #1967D2;\n",
              "      height: 32px;\n",
              "      padding: 0 0 0 0;\n",
              "      width: 32px;\n",
              "    }\n",
              "\n",
              "    .colab-df-convert:hover {\n",
              "      background-color: #E2EBFA;\n",
              "      box-shadow: 0px 1px 2px rgba(60, 64, 67, 0.3), 0px 1px 3px 1px rgba(60, 64, 67, 0.15);\n",
              "      fill: #174EA6;\n",
              "    }\n",
              "\n",
              "    [theme=dark] .colab-df-convert {\n",
              "      background-color: #3B4455;\n",
              "      fill: #D2E3FC;\n",
              "    }\n",
              "\n",
              "    [theme=dark] .colab-df-convert:hover {\n",
              "      background-color: #434B5C;\n",
              "      box-shadow: 0px 1px 3px 1px rgba(0, 0, 0, 0.15);\n",
              "      filter: drop-shadow(0px 1px 2px rgba(0, 0, 0, 0.3));\n",
              "      fill: #FFFFFF;\n",
              "    }\n",
              "  </style>\n",
              "\n",
              "      <script>\n",
              "        const buttonEl =\n",
              "          document.querySelector('#df-f20758cc-1375-40fb-89c9-fc2367448127 button.colab-df-convert');\n",
              "        buttonEl.style.display =\n",
              "          google.colab.kernel.accessAllowed ? 'block' : 'none';\n",
              "\n",
              "        async function convertToInteractive(key) {\n",
              "          const element = document.querySelector('#df-f20758cc-1375-40fb-89c9-fc2367448127');\n",
              "          const dataTable =\n",
              "            await google.colab.kernel.invokeFunction('convertToInteractive',\n",
              "                                                     [key], {});\n",
              "          if (!dataTable) return;\n",
              "\n",
              "          const docLinkHtml = 'Like what you see? Visit the ' +\n",
              "            '<a target=\"_blank\" href=https://colab.research.google.com/notebooks/data_table.ipynb>data table notebook</a>'\n",
              "            + ' to learn more about interactive tables.';\n",
              "          element.innerHTML = '';\n",
              "          dataTable['output_type'] = 'display_data';\n",
              "          await google.colab.output.renderOutput(dataTable, element);\n",
              "          const docLink = document.createElement('div');\n",
              "          docLink.innerHTML = docLinkHtml;\n",
              "          element.appendChild(docLink);\n",
              "        }\n",
              "      </script>\n",
              "    </div>\n",
              "  </div>\n",
              "  "
            ]
          },
          "metadata": {}
        }
      ]
    },
    {
      "cell_type": "markdown",
      "source": [
        "K Means clustering was run on combined numeric feature and target data to identify whether there were likely to be clusters among observations that aligned with different levels of happiness. (Categorical features were excluded.) I did this because it looked like there were some features (e.g., terrorist attacks) that were  correlated with happiness only at certain levels of happiness, and I wanted to see if observations were clustered in groups that corresponded with happiness levels. Of the 4 clusters (number selected by elbow diagram), two were most strongly correlated with \"very low\" happiness, one was \"Average\" and \"very high\", and one was \"high\" and \"low\". This suggests that there are clusters of some of the variables but the clusters don't belong to certain happiness levels.\n",
        "\n",
        "The two clusters correlated with very low happiness were both also correlated with low GDP per capita, low social support, low life expectancy, low freedom to make choices, (interestingly) low perceptions of corruption, and high terrorist attacks.\n",
        "\n",
        "The cluster correlated with \"average\" and \"very high\" happiness was also correlated the most strongly with GDP per capita, social support, healthy life expectancy, and generosity.\n",
        "\n",
        "The cluster correlated with \"high\" and \"low\" happiness was also correlated with the second-highest GDP per capita, social support, life expectancy, freedom to make choices, and the lowest terrorist attacks.\n",
        "\n",
        "These clusters don't show consistency across happiness groups."
      ],
      "metadata": {
        "id": "AowlTbBeMbuN"
      }
    },
    {
      "cell_type": "markdown",
      "source": [
        "# Prediction models"
      ],
      "metadata": {
        "id": "6JHigJLAU017"
      }
    },
    {
      "cell_type": "code",
      "source": [
        "from sklearn.model_selection import train_test_split\n",
        "from sklearn.model_selection import GridSearchCV\n",
        "\n",
        "#train test split training data to create labeled test set for hyperparameter tuning\n",
        "\n",
        "X_train_train, X_train_test, y_train_train, y_train_test = train_test_split(X_train, y_train_labels, test_size=0.2, stratify=y_train_labels, random_state=0)\n",
        "print(X_train_train.shape)\n",
        "print(X_train_test.shape)\n",
        "print(y_train_train.shape)\n",
        "print(y_train_test.shape)\n"
      ],
      "metadata": {
        "id": "sKePpvXiD0Dw",
        "colab": {
          "base_uri": "https://localhost:8080/"
        },
        "outputId": "294b4ff6-5627-423b-e8d8-85bea9252f54"
      },
      "execution_count": 14,
      "outputs": [
        {
          "output_type": "stream",
          "name": "stdout",
          "text": [
            "(70, 11)\n",
            "(18, 11)\n",
            "(70,)\n",
            "(18,)\n"
          ]
        }
      ]
    },
    {
      "cell_type": "markdown",
      "source": [
        "##### Gradient Boosting Classifier"
      ],
      "metadata": {
        "id": "_1kUk7cKDwtN"
      }
    },
    {
      "cell_type": "code",
      "source": [
        "from sklearn.ensemble import GradientBoostingClassifier\n",
        "\n",
        "#Example code to fit model:\n",
        "gbc = GradientBoostingClassifier(random_state=0, max_depth=10)\n",
        "param_grid = {'n_estimators':np.arange(1, 500, 100), 'learning_rate':(0.01, 0.1, 1)}\n",
        "grid = GridSearchCV(gbc, param_grid=param_grid, cv=10).fit(preprocessor(X_train_train), y_train_train)\n",
        "print(grid.score(preprocessor(X_train_test), y_train_test))\n",
        "grid.best_params_"
      ],
      "metadata": {
        "id": "3NKA7unyOXAq",
        "colab": {
          "base_uri": "https://localhost:8080/"
        },
        "outputId": "0f81cd0c-2ecf-4846-e233-1c2b58011f68"
      },
      "execution_count": null,
      "outputs": [
        {
          "output_type": "stream",
          "name": "stdout",
          "text": [
            "0.6666666666666666\n"
          ]
        },
        {
          "output_type": "execute_result",
          "data": {
            "text/plain": [
              "{'learning_rate': 1, 'n_estimators': 101}"
            ]
          },
          "metadata": {},
          "execution_count": 120
        }
      ]
    },
    {
      "cell_type": "code",
      "source": [
        "model1 = GradientBoostingClassifier(random_state=0, max_depth=10, learning_rate=1, n_estimators=101).fit(preprocessor(X_train_train), y_train_train)\n",
        "print(model1.score(preprocessor(X_train_train), y_train_train)) # Fit score, 0-1 scale.\n",
        "print(model1.score(preprocessor(X_train_test), y_train_test))"
      ],
      "metadata": {
        "colab": {
          "base_uri": "https://localhost:8080/"
        },
        "id": "O18HnLThFGYN",
        "outputId": "41f1e41d-da50-4361-dd91-a91fecdb4f82"
      },
      "execution_count": null,
      "outputs": [
        {
          "output_type": "stream",
          "name": "stdout",
          "text": [
            "1.0\n",
            "0.6666666666666666\n"
          ]
        }
      ]
    },
    {
      "cell_type": "markdown",
      "source": [
        "##### Random Forest Classifier"
      ],
      "metadata": {
        "id": "dufuzM3QFVzM"
      }
    },
    {
      "cell_type": "code",
      "source": [
        "from sklearn.ensemble import RandomForestClassifier\n",
        "\n",
        "rfc = RandomForestClassifier()\n",
        "param_grid = {'n_estimators':np.arange(1,1100, 100), 'max_depth':np.arange(1,50, 5)}\n",
        "grid2 = GridSearchCV(rfc, param_grid=param_grid,cv=10).fit(preprocessor(X_train_train), y_train_train)\n",
        "print(grid2.score(preprocessor(X_train_test), y_train_test))\n",
        "grid2.best_params_"
      ],
      "metadata": {
        "colab": {
          "base_uri": "https://localhost:8080/"
        },
        "id": "ZSJtZC7wBA3d",
        "outputId": "4580de6b-05fe-4d60-cd3c-06800bbd057e"
      },
      "execution_count": null,
      "outputs": [
        {
          "output_type": "stream",
          "name": "stdout",
          "text": [
            "0.6111111111111112\n"
          ]
        },
        {
          "output_type": "execute_result",
          "data": {
            "text/plain": [
              "{'max_depth': 26, 'n_estimators': 601}"
            ]
          },
          "metadata": {},
          "execution_count": 123
        }
      ]
    },
    {
      "cell_type": "code",
      "source": [
        "model2 = RandomForestClassifier(n_estimators=601, max_depth=26).fit(preprocessor(X_train_train), y_train_train)\n",
        "print(model2.score(preprocessor(X_train_train), y_train_train)) # Fit score, 0-1 scale.\n",
        "print(model2.score(preprocessor(X_train_test), y_train_test))"
      ],
      "metadata": {
        "colab": {
          "base_uri": "https://localhost:8080/"
        },
        "id": "VkSmip55FKET",
        "outputId": "fcc65bfe-c562-469d-e91f-22d3b496f844"
      },
      "execution_count": null,
      "outputs": [
        {
          "output_type": "stream",
          "name": "stdout",
          "text": [
            "1.0\n",
            "0.6111111111111112\n"
          ]
        }
      ]
    },
    {
      "cell_type": "markdown",
      "source": [
        "##### KNN Classifier"
      ],
      "metadata": {
        "id": "ovraR5CpFf8M"
      }
    },
    {
      "cell_type": "code",
      "source": [
        "from sklearn.neighbors import KNeighborsClassifier\n",
        "\n",
        "knn = KNeighborsClassifier()\n",
        "param_grid = {'n_neighbors':np.arange(1,21,2)}\n",
        "grid3 = GridSearchCV(knn, param_grid=param_grid, cv=10).fit(preprocessor(X_train_train), y_train_train)\n",
        "print(grid3.score(preprocessor(X_train_test), y_train_test))\n",
        "grid3.best_params_"
      ],
      "metadata": {
        "colab": {
          "base_uri": "https://localhost:8080/"
        },
        "id": "xThWeUWnBgfk",
        "outputId": "1d003ba0-553a-4ef0-d600-2df59e036fc4"
      },
      "execution_count": 15,
      "outputs": [
        {
          "output_type": "stream",
          "name": "stdout",
          "text": [
            "0.5555555555555556\n"
          ]
        },
        {
          "output_type": "execute_result",
          "data": {
            "text/plain": [
              "{'n_neighbors': 13}"
            ]
          },
          "metadata": {},
          "execution_count": 15
        }
      ]
    },
    {
      "cell_type": "code",
      "source": [
        "model3 = KNeighborsClassifier(n_neighbors=13).fit(preprocessor(X_train_train), y_train_train)\n",
        "print(model3.score(preprocessor(X_train_train), y_train_train)) # Fit score, 0-1 scale.\n",
        "print(model3.score(preprocessor(X_train_test), y_train_test))"
      ],
      "metadata": {
        "colab": {
          "base_uri": "https://localhost:8080/"
        },
        "id": "fS_TOhwPHhky",
        "outputId": "52eca540-60ad-48dc-dbf1-b88af4bc55d2"
      },
      "execution_count": null,
      "outputs": [
        {
          "output_type": "stream",
          "name": "stdout",
          "text": [
            "0.6857142857142857\n",
            "0.5555555555555556\n"
          ]
        }
      ]
    },
    {
      "cell_type": "markdown",
      "source": [
        "##### SVC"
      ],
      "metadata": {
        "id": "0ht6FHK7EkJ3"
      }
    },
    {
      "cell_type": "code",
      "source": [
        "from sklearn.svm import SVC\n",
        "\n",
        "svc = SVC()\n",
        "param_grid = {'C': [0.1, 1, 10, 100, 1000], 'gamma': [1, 0.1, 0.01, 0.001, 0.0001],'kernel': ['rbf']} \n",
        "grid4 = GridSearchCV(svc, param_grid=param_grid, cv=10).fit(preprocessor(X_train_train), y_train_train)\n",
        "print(grid4.score(preprocessor(X_train_test), y_train_test))\n",
        "grid4.best_params_"
      ],
      "metadata": {
        "colab": {
          "base_uri": "https://localhost:8080/"
        },
        "id": "UaVt8S-iEpJ6",
        "outputId": "d1181aed-bc1c-46a2-c392-4f43513e95dc"
      },
      "execution_count": 16,
      "outputs": [
        {
          "output_type": "stream",
          "name": "stdout",
          "text": [
            "0.5555555555555556\n"
          ]
        },
        {
          "output_type": "execute_result",
          "data": {
            "text/plain": [
              "{'C': 10, 'gamma': 0.01, 'kernel': 'rbf'}"
            ]
          },
          "metadata": {},
          "execution_count": 16
        }
      ]
    },
    {
      "cell_type": "code",
      "source": [
        "model4 = SVC(C=10, gamma=0.01, kernel='rbf').fit(preprocessor(X_train_train), y_train_train)\n",
        "print(model4.score(preprocessor(X_train_train), y_train_train)) # Fit score, 0-1 scale.\n",
        "print(model4.score(preprocessor(X_train_test), y_train_test))"
      ],
      "metadata": {
        "colab": {
          "base_uri": "https://localhost:8080/"
        },
        "id": "IIUma0GvF2gL",
        "outputId": "ea4af4bf-9a2a-489f-e9b6-382a33e69ba2"
      },
      "execution_count": null,
      "outputs": [
        {
          "output_type": "stream",
          "name": "stdout",
          "text": [
            "0.7857142857142857\n",
            "0.5555555555555556\n"
          ]
        }
      ]
    },
    {
      "cell_type": "markdown",
      "source": [
        "##### Bagging Classifier"
      ],
      "metadata": {
        "id": "qVmS4ivuEl8a"
      }
    },
    {
      "cell_type": "code",
      "source": [
        "from sklearn.ensemble import BaggingClassifier\n",
        "\n",
        "model5 = BaggingClassifier().fit(preprocessor(X_train_train), y_train_train)\n",
        "print(model5.score(preprocessor(X_train_train), y_train_train)) # Fit score, 0-1 scale.\n",
        "print(model5.score(preprocessor(X_train_test), y_train_test))"
      ],
      "metadata": {
        "colab": {
          "base_uri": "https://localhost:8080/"
        },
        "id": "0TXGwW1MEOBa",
        "outputId": "c131c3de-2231-4845-c0a8-50b2f66bbbce"
      },
      "execution_count": null,
      "outputs": [
        {
          "output_type": "stream",
          "name": "stdout",
          "text": [
            "0.9571428571428572\n",
            "0.7222222222222222\n"
          ]
        }
      ]
    },
    {
      "cell_type": "markdown",
      "source": [
        "## Fit and save out model (done for each of the models listed above)"
      ],
      "metadata": {
        "id": "YGjm7-sOTk5m"
      }
    },
    {
      "cell_type": "code",
      "source": [
        "model = model5"
      ],
      "metadata": {
        "id": "DHOmHWE_utIG"
      },
      "execution_count": null,
      "outputs": []
    },
    {
      "cell_type": "code",
      "source": [
        "# Save sklearn model to local ONNX file\n",
        "from aimodelshare.aimsonnx import model_to_onnx\n",
        "\n",
        "# Check how many preprocessed input features are there?\n",
        "from skl2onnx.common.data_types import FloatTensorType\n",
        "\n",
        "feature_count=preprocessor(X_test).shape[1] #Get count of preprocessed features\n",
        "initial_type = [('float_input', FloatTensorType([None, feature_count]))]  #Insert correct number of preprocessed features\n",
        "\n",
        "onnx_model = model_to_onnx(model, framework='sklearn',\n",
        "                          initial_types=initial_type,\n",
        "                          transfer_learning=False,\n",
        "                          deep_learning=False)\n",
        "\n",
        "with open(\"model.onnx\", \"wb\") as f:\n",
        "    f.write(onnx_model.SerializeToString())"
      ],
      "metadata": {
        "id": "tZWHprtPTrl0"
      },
      "execution_count": null,
      "outputs": []
    },
    {
      "cell_type": "markdown",
      "source": [
        "## Generate predictions and submit model (done for each of the 6 models listed above)"
      ],
      "metadata": {
        "id": "VwUU3y5_Tt5d"
      }
    },
    {
      "cell_type": "code",
      "source": [
        "#Set credentials using modelshare.org username/password\n",
        "\n",
        "from aimodelshare.aws import set_credentials\n",
        "\n",
        "#This is the unique rest api that powers this World Happiness Classification Playground -- make sure to update the apiurl for new competition deployments\n",
        "apiurl=\"https://e2w6gh3id1.execute-api.us-east-2.amazonaws.com/prod/m\"\n",
        "\n",
        "set_credentials(apiurl=apiurl)\n",
        "\n",
        "#Instantiate Competition\n",
        "import aimodelshare as ai\n",
        "mycompetition= ai.Competition(apiurl)"
      ],
      "metadata": {
        "id": "1pv087aJTvGE",
        "colab": {
          "base_uri": "https://localhost:8080/"
        },
        "outputId": "0816ae7e-cae8-413a-922d-0d52c17a8745"
      },
      "execution_count": null,
      "outputs": [
        {
          "output_type": "stream",
          "name": "stdout",
          "text": [
            "AI Modelshare Username:··········\n",
            "AI Modelshare Password:··········\n",
            "AI Model Share login credentials set successfully.\n"
          ]
        }
      ]
    },
    {
      "cell_type": "code",
      "source": [
        "#-- Generate predicted values \n",
        "prediction_labels = model.predict(preprocessor(X_test))\n",
        "\n",
        "# Submit model to Competition Leaderboard\n",
        "mycompetition.submit_model(model_filepath = \"model.onnx\",\n",
        "                                 preprocessor_filepath=\"preprocessor.zip\",\n",
        "                                 prediction_submission=prediction_labels,\n",
        "                                  custom_metadata = {'team':'7'})\n"
      ],
      "metadata": {
        "colab": {
          "base_uri": "https://localhost:8080/"
        },
        "id": "DGu-5gV9vCyb",
        "outputId": "9591a19b-ad82-4eb8-c92c-a28f74dee3e3"
      },
      "execution_count": null,
      "outputs": [
        {
          "output_type": "stream",
          "name": "stdout",
          "text": [
            "Insert search tags to help users find your model (optional): bagging classifier\n",
            "Provide any useful notes about your model (optional): bagging classifier with decision tree\n",
            "\n",
            "Your model has been submitted as model version 501\n",
            "\n",
            "To submit code used to create this model or to view current leaderboard navigate to Model Playground: \n",
            "\n",
            " https://www.modelshare.org/detail/model:3164\n"
          ]
        }
      ]
    },
    {
      "cell_type": "markdown",
      "source": [
        "# Outcomes"
      ],
      "metadata": {
        "id": "lUcJ4LeJEXKx"
      }
    },
    {
      "cell_type": "markdown",
      "source": [
        "First, I submitted a Gradient Boosting Classifier, Random Forest Classifier, and KNN Classifier. These models didn't perform particularly well and appeared to be overfit to the training data. The random forest had accuracy 0.441176 and f1 below 0.4 for both models. My team's advice was to test different architectures, including suggested a Bagging Classifier and SVC. They also suggested changing the hyper-parameters. \n",
        "\n",
        "After hyper-parameter tuning, I submitted a Bagging Classifier, SVC, and a few other Gradient Boosting Classifiers with different hyper parameters. The final models are shown below.\n",
        "\n",
        "Only two models had accuracy above 0.5. Neither had f1 scores above 0.5. The two best models were gradient boosted classifier and SVM. \n",
        "\n",
        "Overall, the best performing model was a gradient boosted classifier with hyper parameters: {'learning_rate': 1, 'n_estimators': 101}. The accuracy was 0.529412 for this model and f1 score was 0.496121. All of the models and their comparative metrics are shown below."
      ],
      "metadata": {
        "id": "PGWx46n1Npvl"
      }
    },
    {
      "cell_type": "code",
      "source": [
        "results = pd.read_csv('public-leaderboard.csv')\n",
        "print(results.columns)\n",
        "results.head(n=15)"
      ],
      "metadata": {
        "colab": {
          "base_uri": "https://localhost:8080/",
          "height": 800
        },
        "id": "2mp6Dtb7Jhar",
        "outputId": "5e68e5f0-cd49-43eb-c05b-291f469cba59"
      },
      "execution_count": 35,
      "outputs": [
        {
          "output_type": "stream",
          "name": "stdout",
          "text": [
            "Index(['ACCURACY', 'F1_SCORE', 'PRECISION', 'RECALL', 'ML_FRAMEWORK',\n",
            "       'TRANSFER_LEARNING', 'DEEP_LEARNING', 'MODEL_TYPE', 'DEPTH',\n",
            "       'NUM_PARAMS', 'FLATTEN_LAYERS', 'BATCHNORMALIZATION_LAYERS',\n",
            "       'DROPOUT_LAYERS', 'DENSE_LAYERS', 'SIGMOID_ACT', 'RELU_ACT', 'TANH_ACT',\n",
            "       'SOFTMAX_ACT', 'LOSS', 'OPTIMIZER', 'MEMORY_SIZE', 'TEAM', 'USERNAME',\n",
            "       'TIMESTAMP', 'VERSION'],\n",
            "      dtype='object')\n"
          ]
        },
        {
          "output_type": "execute_result",
          "data": {
            "text/plain": [
              "    ACCURACY  F1_SCORE  PRECISION    RECALL ML_FRAMEWORK  TRANSFER_LEARNING  \\\n",
              "0   0.529412  0.496121   0.677778  0.537857      sklearn              False   \n",
              "1   0.500000  0.495707   0.575983  0.524286      sklearn              False   \n",
              "2   0.470588  0.469382   0.632821  0.484286      sklearn              False   \n",
              "3   0.470588  0.469382   0.632821  0.484286      sklearn              False   \n",
              "4   0.470588  0.440635   0.643939  0.495714      sklearn              False   \n",
              "5   0.470588  0.446762   0.562821  0.484286      sklearn              False   \n",
              "6   0.441176  0.437124   0.628333  0.444286      sklearn              False   \n",
              "7   0.441176  0.444567   0.505556  0.440714      sklearn              False   \n",
              "8   0.441176  0.421506   0.516190  0.455714      sklearn              False   \n",
              "9   0.441176  0.361005   0.508824  0.478571      sklearn              False   \n",
              "10  0.382353  0.367727   0.540598  0.398571      sklearn              False   \n",
              "\n",
              "    DEEP_LEARNING                  MODEL_TYPE  DEPTH  NUM_PARAMS  ...  \\\n",
              "0           False  GradientBoostingClassifier    NaN         NaN  ...   \n",
              "1           False                         SVC    NaN         NaN  ...   \n",
              "2           False  GradientBoostingClassifier    NaN         NaN  ...   \n",
              "3           False  GradientBoostingClassifier    NaN         NaN  ...   \n",
              "4           False      RandomForestClassifier    NaN         NaN  ...   \n",
              "5           False      RandomForestClassifier    NaN         NaN  ...   \n",
              "6           False  GradientBoostingClassifier    NaN         NaN  ...   \n",
              "7           False           BaggingClassifier    NaN         NaN  ...   \n",
              "8           False      RandomForestClassifier    NaN         NaN  ...   \n",
              "9           False      RandomForestClassifier    NaN         NaN  ...   \n",
              "10          False  GradientBoostingClassifier    NaN         NaN  ...   \n",
              "\n",
              "    RELU_ACT  TANH_ACT  SOFTMAX_ACT  LOSS  OPTIMIZER  MEMORY_SIZE  TEAM  \\\n",
              "0        NaN       NaN          NaN   NaN        NaN          NaN   7.0   \n",
              "1        NaN       NaN          NaN   NaN        NaN          NaN   7.0   \n",
              "2        NaN       NaN          NaN   NaN        NaN          NaN   7.0   \n",
              "3        NaN       NaN          NaN   NaN        NaN          NaN   7.0   \n",
              "4        NaN       NaN          NaN   NaN        NaN          NaN   7.0   \n",
              "5        NaN       NaN          NaN   NaN        NaN          NaN   7.0   \n",
              "6        NaN       NaN          NaN   NaN        NaN          NaN   7.0   \n",
              "7        NaN       NaN          NaN   NaN        NaN          NaN   7.0   \n",
              "8        NaN       NaN          NaN   NaN        NaN          NaN   NaN   \n",
              "9        NaN       NaN          NaN   NaN        NaN          NaN   7.0   \n",
              "10       NaN       NaN          NaN   NaN        NaN          NaN   7.0   \n",
              "\n",
              "    USERNAME                   TIMESTAMP  VERSION  \n",
              "0   lprockop  2023-02-03 21:06:32.633284      246  \n",
              "1   lprockop  2023-02-06 19:07:27.821977      499  \n",
              "2   lprockop  2023-02-02 22:21:28.005441      143  \n",
              "3   lprockop  2023-01-31 22:43:05.553645       19  \n",
              "4   lprockop  2023-01-31 22:42:08.360418       13  \n",
              "5   lprockop  2023-02-06 19:03:43.939191      498  \n",
              "6   lprockop  2023-02-03 19:31:15.663887      230  \n",
              "7   lprockop  2023-02-06 19:11:32.853546      501  \n",
              "8   lprockop  2023-01-31 22:41:02.920352        9  \n",
              "9   lprockop  2023-01-31 22:40:09.620017        6  \n",
              "10  lprockop  2023-01-31 22:44:34.947907       28  \n",
              "\n",
              "[11 rows x 25 columns]"
            ],
            "text/html": [
              "\n",
              "  <div id=\"df-17dd841a-c08e-40e4-bf97-f594a9b8ca07\">\n",
              "    <div class=\"colab-df-container\">\n",
              "      <div>\n",
              "<style scoped>\n",
              "    .dataframe tbody tr th:only-of-type {\n",
              "        vertical-align: middle;\n",
              "    }\n",
              "\n",
              "    .dataframe tbody tr th {\n",
              "        vertical-align: top;\n",
              "    }\n",
              "\n",
              "    .dataframe thead th {\n",
              "        text-align: right;\n",
              "    }\n",
              "</style>\n",
              "<table border=\"1\" class=\"dataframe\">\n",
              "  <thead>\n",
              "    <tr style=\"text-align: right;\">\n",
              "      <th></th>\n",
              "      <th>ACCURACY</th>\n",
              "      <th>F1_SCORE</th>\n",
              "      <th>PRECISION</th>\n",
              "      <th>RECALL</th>\n",
              "      <th>ML_FRAMEWORK</th>\n",
              "      <th>TRANSFER_LEARNING</th>\n",
              "      <th>DEEP_LEARNING</th>\n",
              "      <th>MODEL_TYPE</th>\n",
              "      <th>DEPTH</th>\n",
              "      <th>NUM_PARAMS</th>\n",
              "      <th>...</th>\n",
              "      <th>RELU_ACT</th>\n",
              "      <th>TANH_ACT</th>\n",
              "      <th>SOFTMAX_ACT</th>\n",
              "      <th>LOSS</th>\n",
              "      <th>OPTIMIZER</th>\n",
              "      <th>MEMORY_SIZE</th>\n",
              "      <th>TEAM</th>\n",
              "      <th>USERNAME</th>\n",
              "      <th>TIMESTAMP</th>\n",
              "      <th>VERSION</th>\n",
              "    </tr>\n",
              "  </thead>\n",
              "  <tbody>\n",
              "    <tr>\n",
              "      <th>0</th>\n",
              "      <td>0.529412</td>\n",
              "      <td>0.496121</td>\n",
              "      <td>0.677778</td>\n",
              "      <td>0.537857</td>\n",
              "      <td>sklearn</td>\n",
              "      <td>False</td>\n",
              "      <td>False</td>\n",
              "      <td>GradientBoostingClassifier</td>\n",
              "      <td>NaN</td>\n",
              "      <td>NaN</td>\n",
              "      <td>...</td>\n",
              "      <td>NaN</td>\n",
              "      <td>NaN</td>\n",
              "      <td>NaN</td>\n",
              "      <td>NaN</td>\n",
              "      <td>NaN</td>\n",
              "      <td>NaN</td>\n",
              "      <td>7.0</td>\n",
              "      <td>lprockop</td>\n",
              "      <td>2023-02-03 21:06:32.633284</td>\n",
              "      <td>246</td>\n",
              "    </tr>\n",
              "    <tr>\n",
              "      <th>1</th>\n",
              "      <td>0.500000</td>\n",
              "      <td>0.495707</td>\n",
              "      <td>0.575983</td>\n",
              "      <td>0.524286</td>\n",
              "      <td>sklearn</td>\n",
              "      <td>False</td>\n",
              "      <td>False</td>\n",
              "      <td>SVC</td>\n",
              "      <td>NaN</td>\n",
              "      <td>NaN</td>\n",
              "      <td>...</td>\n",
              "      <td>NaN</td>\n",
              "      <td>NaN</td>\n",
              "      <td>NaN</td>\n",
              "      <td>NaN</td>\n",
              "      <td>NaN</td>\n",
              "      <td>NaN</td>\n",
              "      <td>7.0</td>\n",
              "      <td>lprockop</td>\n",
              "      <td>2023-02-06 19:07:27.821977</td>\n",
              "      <td>499</td>\n",
              "    </tr>\n",
              "    <tr>\n",
              "      <th>2</th>\n",
              "      <td>0.470588</td>\n",
              "      <td>0.469382</td>\n",
              "      <td>0.632821</td>\n",
              "      <td>0.484286</td>\n",
              "      <td>sklearn</td>\n",
              "      <td>False</td>\n",
              "      <td>False</td>\n",
              "      <td>GradientBoostingClassifier</td>\n",
              "      <td>NaN</td>\n",
              "      <td>NaN</td>\n",
              "      <td>...</td>\n",
              "      <td>NaN</td>\n",
              "      <td>NaN</td>\n",
              "      <td>NaN</td>\n",
              "      <td>NaN</td>\n",
              "      <td>NaN</td>\n",
              "      <td>NaN</td>\n",
              "      <td>7.0</td>\n",
              "      <td>lprockop</td>\n",
              "      <td>2023-02-02 22:21:28.005441</td>\n",
              "      <td>143</td>\n",
              "    </tr>\n",
              "    <tr>\n",
              "      <th>3</th>\n",
              "      <td>0.470588</td>\n",
              "      <td>0.469382</td>\n",
              "      <td>0.632821</td>\n",
              "      <td>0.484286</td>\n",
              "      <td>sklearn</td>\n",
              "      <td>False</td>\n",
              "      <td>False</td>\n",
              "      <td>GradientBoostingClassifier</td>\n",
              "      <td>NaN</td>\n",
              "      <td>NaN</td>\n",
              "      <td>...</td>\n",
              "      <td>NaN</td>\n",
              "      <td>NaN</td>\n",
              "      <td>NaN</td>\n",
              "      <td>NaN</td>\n",
              "      <td>NaN</td>\n",
              "      <td>NaN</td>\n",
              "      <td>7.0</td>\n",
              "      <td>lprockop</td>\n",
              "      <td>2023-01-31 22:43:05.553645</td>\n",
              "      <td>19</td>\n",
              "    </tr>\n",
              "    <tr>\n",
              "      <th>4</th>\n",
              "      <td>0.470588</td>\n",
              "      <td>0.440635</td>\n",
              "      <td>0.643939</td>\n",
              "      <td>0.495714</td>\n",
              "      <td>sklearn</td>\n",
              "      <td>False</td>\n",
              "      <td>False</td>\n",
              "      <td>RandomForestClassifier</td>\n",
              "      <td>NaN</td>\n",
              "      <td>NaN</td>\n",
              "      <td>...</td>\n",
              "      <td>NaN</td>\n",
              "      <td>NaN</td>\n",
              "      <td>NaN</td>\n",
              "      <td>NaN</td>\n",
              "      <td>NaN</td>\n",
              "      <td>NaN</td>\n",
              "      <td>7.0</td>\n",
              "      <td>lprockop</td>\n",
              "      <td>2023-01-31 22:42:08.360418</td>\n",
              "      <td>13</td>\n",
              "    </tr>\n",
              "    <tr>\n",
              "      <th>5</th>\n",
              "      <td>0.470588</td>\n",
              "      <td>0.446762</td>\n",
              "      <td>0.562821</td>\n",
              "      <td>0.484286</td>\n",
              "      <td>sklearn</td>\n",
              "      <td>False</td>\n",
              "      <td>False</td>\n",
              "      <td>RandomForestClassifier</td>\n",
              "      <td>NaN</td>\n",
              "      <td>NaN</td>\n",
              "      <td>...</td>\n",
              "      <td>NaN</td>\n",
              "      <td>NaN</td>\n",
              "      <td>NaN</td>\n",
              "      <td>NaN</td>\n",
              "      <td>NaN</td>\n",
              "      <td>NaN</td>\n",
              "      <td>7.0</td>\n",
              "      <td>lprockop</td>\n",
              "      <td>2023-02-06 19:03:43.939191</td>\n",
              "      <td>498</td>\n",
              "    </tr>\n",
              "    <tr>\n",
              "      <th>6</th>\n",
              "      <td>0.441176</td>\n",
              "      <td>0.437124</td>\n",
              "      <td>0.628333</td>\n",
              "      <td>0.444286</td>\n",
              "      <td>sklearn</td>\n",
              "      <td>False</td>\n",
              "      <td>False</td>\n",
              "      <td>GradientBoostingClassifier</td>\n",
              "      <td>NaN</td>\n",
              "      <td>NaN</td>\n",
              "      <td>...</td>\n",
              "      <td>NaN</td>\n",
              "      <td>NaN</td>\n",
              "      <td>NaN</td>\n",
              "      <td>NaN</td>\n",
              "      <td>NaN</td>\n",
              "      <td>NaN</td>\n",
              "      <td>7.0</td>\n",
              "      <td>lprockop</td>\n",
              "      <td>2023-02-03 19:31:15.663887</td>\n",
              "      <td>230</td>\n",
              "    </tr>\n",
              "    <tr>\n",
              "      <th>7</th>\n",
              "      <td>0.441176</td>\n",
              "      <td>0.444567</td>\n",
              "      <td>0.505556</td>\n",
              "      <td>0.440714</td>\n",
              "      <td>sklearn</td>\n",
              "      <td>False</td>\n",
              "      <td>False</td>\n",
              "      <td>BaggingClassifier</td>\n",
              "      <td>NaN</td>\n",
              "      <td>NaN</td>\n",
              "      <td>...</td>\n",
              "      <td>NaN</td>\n",
              "      <td>NaN</td>\n",
              "      <td>NaN</td>\n",
              "      <td>NaN</td>\n",
              "      <td>NaN</td>\n",
              "      <td>NaN</td>\n",
              "      <td>7.0</td>\n",
              "      <td>lprockop</td>\n",
              "      <td>2023-02-06 19:11:32.853546</td>\n",
              "      <td>501</td>\n",
              "    </tr>\n",
              "    <tr>\n",
              "      <th>8</th>\n",
              "      <td>0.441176</td>\n",
              "      <td>0.421506</td>\n",
              "      <td>0.516190</td>\n",
              "      <td>0.455714</td>\n",
              "      <td>sklearn</td>\n",
              "      <td>False</td>\n",
              "      <td>False</td>\n",
              "      <td>RandomForestClassifier</td>\n",
              "      <td>NaN</td>\n",
              "      <td>NaN</td>\n",
              "      <td>...</td>\n",
              "      <td>NaN</td>\n",
              "      <td>NaN</td>\n",
              "      <td>NaN</td>\n",
              "      <td>NaN</td>\n",
              "      <td>NaN</td>\n",
              "      <td>NaN</td>\n",
              "      <td>NaN</td>\n",
              "      <td>lprockop</td>\n",
              "      <td>2023-01-31 22:41:02.920352</td>\n",
              "      <td>9</td>\n",
              "    </tr>\n",
              "    <tr>\n",
              "      <th>9</th>\n",
              "      <td>0.441176</td>\n",
              "      <td>0.361005</td>\n",
              "      <td>0.508824</td>\n",
              "      <td>0.478571</td>\n",
              "      <td>sklearn</td>\n",
              "      <td>False</td>\n",
              "      <td>False</td>\n",
              "      <td>RandomForestClassifier</td>\n",
              "      <td>NaN</td>\n",
              "      <td>NaN</td>\n",
              "      <td>...</td>\n",
              "      <td>NaN</td>\n",
              "      <td>NaN</td>\n",
              "      <td>NaN</td>\n",
              "      <td>NaN</td>\n",
              "      <td>NaN</td>\n",
              "      <td>NaN</td>\n",
              "      <td>7.0</td>\n",
              "      <td>lprockop</td>\n",
              "      <td>2023-01-31 22:40:09.620017</td>\n",
              "      <td>6</td>\n",
              "    </tr>\n",
              "    <tr>\n",
              "      <th>10</th>\n",
              "      <td>0.382353</td>\n",
              "      <td>0.367727</td>\n",
              "      <td>0.540598</td>\n",
              "      <td>0.398571</td>\n",
              "      <td>sklearn</td>\n",
              "      <td>False</td>\n",
              "      <td>False</td>\n",
              "      <td>GradientBoostingClassifier</td>\n",
              "      <td>NaN</td>\n",
              "      <td>NaN</td>\n",
              "      <td>...</td>\n",
              "      <td>NaN</td>\n",
              "      <td>NaN</td>\n",
              "      <td>NaN</td>\n",
              "      <td>NaN</td>\n",
              "      <td>NaN</td>\n",
              "      <td>NaN</td>\n",
              "      <td>7.0</td>\n",
              "      <td>lprockop</td>\n",
              "      <td>2023-01-31 22:44:34.947907</td>\n",
              "      <td>28</td>\n",
              "    </tr>\n",
              "  </tbody>\n",
              "</table>\n",
              "<p>11 rows × 25 columns</p>\n",
              "</div>\n",
              "      <button class=\"colab-df-convert\" onclick=\"convertToInteractive('df-17dd841a-c08e-40e4-bf97-f594a9b8ca07')\"\n",
              "              title=\"Convert this dataframe to an interactive table.\"\n",
              "              style=\"display:none;\">\n",
              "        \n",
              "  <svg xmlns=\"http://www.w3.org/2000/svg\" height=\"24px\"viewBox=\"0 0 24 24\"\n",
              "       width=\"24px\">\n",
              "    <path d=\"M0 0h24v24H0V0z\" fill=\"none\"/>\n",
              "    <path d=\"M18.56 5.44l.94 2.06.94-2.06 2.06-.94-2.06-.94-.94-2.06-.94 2.06-2.06.94zm-11 1L8.5 8.5l.94-2.06 2.06-.94-2.06-.94L8.5 2.5l-.94 2.06-2.06.94zm10 10l.94 2.06.94-2.06 2.06-.94-2.06-.94-.94-2.06-.94 2.06-2.06.94z\"/><path d=\"M17.41 7.96l-1.37-1.37c-.4-.4-.92-.59-1.43-.59-.52 0-1.04.2-1.43.59L10.3 9.45l-7.72 7.72c-.78.78-.78 2.05 0 2.83L4 21.41c.39.39.9.59 1.41.59.51 0 1.02-.2 1.41-.59l7.78-7.78 2.81-2.81c.8-.78.8-2.07 0-2.86zM5.41 20L4 18.59l7.72-7.72 1.47 1.35L5.41 20z\"/>\n",
              "  </svg>\n",
              "      </button>\n",
              "      \n",
              "  <style>\n",
              "    .colab-df-container {\n",
              "      display:flex;\n",
              "      flex-wrap:wrap;\n",
              "      gap: 12px;\n",
              "    }\n",
              "\n",
              "    .colab-df-convert {\n",
              "      background-color: #E8F0FE;\n",
              "      border: none;\n",
              "      border-radius: 50%;\n",
              "      cursor: pointer;\n",
              "      display: none;\n",
              "      fill: #1967D2;\n",
              "      height: 32px;\n",
              "      padding: 0 0 0 0;\n",
              "      width: 32px;\n",
              "    }\n",
              "\n",
              "    .colab-df-convert:hover {\n",
              "      background-color: #E2EBFA;\n",
              "      box-shadow: 0px 1px 2px rgba(60, 64, 67, 0.3), 0px 1px 3px 1px rgba(60, 64, 67, 0.15);\n",
              "      fill: #174EA6;\n",
              "    }\n",
              "\n",
              "    [theme=dark] .colab-df-convert {\n",
              "      background-color: #3B4455;\n",
              "      fill: #D2E3FC;\n",
              "    }\n",
              "\n",
              "    [theme=dark] .colab-df-convert:hover {\n",
              "      background-color: #434B5C;\n",
              "      box-shadow: 0px 1px 3px 1px rgba(0, 0, 0, 0.15);\n",
              "      filter: drop-shadow(0px 1px 2px rgba(0, 0, 0, 0.3));\n",
              "      fill: #FFFFFF;\n",
              "    }\n",
              "  </style>\n",
              "\n",
              "      <script>\n",
              "        const buttonEl =\n",
              "          document.querySelector('#df-17dd841a-c08e-40e4-bf97-f594a9b8ca07 button.colab-df-convert');\n",
              "        buttonEl.style.display =\n",
              "          google.colab.kernel.accessAllowed ? 'block' : 'none';\n",
              "\n",
              "        async function convertToInteractive(key) {\n",
              "          const element = document.querySelector('#df-17dd841a-c08e-40e4-bf97-f594a9b8ca07');\n",
              "          const dataTable =\n",
              "            await google.colab.kernel.invokeFunction('convertToInteractive',\n",
              "                                                     [key], {});\n",
              "          if (!dataTable) return;\n",
              "\n",
              "          const docLinkHtml = 'Like what you see? Visit the ' +\n",
              "            '<a target=\"_blank\" href=https://colab.research.google.com/notebooks/data_table.ipynb>data table notebook</a>'\n",
              "            + ' to learn more about interactive tables.';\n",
              "          element.innerHTML = '';\n",
              "          dataTable['output_type'] = 'display_data';\n",
              "          await google.colab.output.renderOutput(dataTable, element);\n",
              "          const docLink = document.createElement('div');\n",
              "          docLink.innerHTML = docLinkHtml;\n",
              "          element.appendChild(docLink);\n",
              "        }\n",
              "      </script>\n",
              "    </div>\n",
              "  </div>\n",
              "  "
            ]
          },
          "metadata": {},
          "execution_count": 35
        }
      ]
    },
    {
      "cell_type": "code",
      "source": [
        "print(\"Best accuracy and f1 score for each model type:\")\n",
        "display(results[['ACCURACY', 'F1_SCORE']].groupby(results['MODEL_TYPE']).max())"
      ],
      "metadata": {
        "colab": {
          "base_uri": "https://localhost:8080/",
          "height": 223
        },
        "id": "bn3RgDZlKeLr",
        "outputId": "232f756b-7541-43ef-8fba-bcf2c8deb772"
      },
      "execution_count": 36,
      "outputs": [
        {
          "output_type": "stream",
          "name": "stdout",
          "text": [
            "Best accuracy and f1 score for each model type:\n"
          ]
        },
        {
          "output_type": "display_data",
          "data": {
            "text/plain": [
              "                            ACCURACY  F1_SCORE\n",
              "MODEL_TYPE                                    \n",
              "BaggingClassifier           0.441176  0.444567\n",
              "GradientBoostingClassifier  0.529412  0.496121\n",
              "RandomForestClassifier      0.470588  0.446762\n",
              "SVC                         0.500000  0.495707"
            ],
            "text/html": [
              "\n",
              "  <div id=\"df-992fa5d8-9a0c-44fa-8f0c-a2f4e0e86314\">\n",
              "    <div class=\"colab-df-container\">\n",
              "      <div>\n",
              "<style scoped>\n",
              "    .dataframe tbody tr th:only-of-type {\n",
              "        vertical-align: middle;\n",
              "    }\n",
              "\n",
              "    .dataframe tbody tr th {\n",
              "        vertical-align: top;\n",
              "    }\n",
              "\n",
              "    .dataframe thead th {\n",
              "        text-align: right;\n",
              "    }\n",
              "</style>\n",
              "<table border=\"1\" class=\"dataframe\">\n",
              "  <thead>\n",
              "    <tr style=\"text-align: right;\">\n",
              "      <th></th>\n",
              "      <th>ACCURACY</th>\n",
              "      <th>F1_SCORE</th>\n",
              "    </tr>\n",
              "    <tr>\n",
              "      <th>MODEL_TYPE</th>\n",
              "      <th></th>\n",
              "      <th></th>\n",
              "    </tr>\n",
              "  </thead>\n",
              "  <tbody>\n",
              "    <tr>\n",
              "      <th>BaggingClassifier</th>\n",
              "      <td>0.441176</td>\n",
              "      <td>0.444567</td>\n",
              "    </tr>\n",
              "    <tr>\n",
              "      <th>GradientBoostingClassifier</th>\n",
              "      <td>0.529412</td>\n",
              "      <td>0.496121</td>\n",
              "    </tr>\n",
              "    <tr>\n",
              "      <th>RandomForestClassifier</th>\n",
              "      <td>0.470588</td>\n",
              "      <td>0.446762</td>\n",
              "    </tr>\n",
              "    <tr>\n",
              "      <th>SVC</th>\n",
              "      <td>0.500000</td>\n",
              "      <td>0.495707</td>\n",
              "    </tr>\n",
              "  </tbody>\n",
              "</table>\n",
              "</div>\n",
              "      <button class=\"colab-df-convert\" onclick=\"convertToInteractive('df-992fa5d8-9a0c-44fa-8f0c-a2f4e0e86314')\"\n",
              "              title=\"Convert this dataframe to an interactive table.\"\n",
              "              style=\"display:none;\">\n",
              "        \n",
              "  <svg xmlns=\"http://www.w3.org/2000/svg\" height=\"24px\"viewBox=\"0 0 24 24\"\n",
              "       width=\"24px\">\n",
              "    <path d=\"M0 0h24v24H0V0z\" fill=\"none\"/>\n",
              "    <path d=\"M18.56 5.44l.94 2.06.94-2.06 2.06-.94-2.06-.94-.94-2.06-.94 2.06-2.06.94zm-11 1L8.5 8.5l.94-2.06 2.06-.94-2.06-.94L8.5 2.5l-.94 2.06-2.06.94zm10 10l.94 2.06.94-2.06 2.06-.94-2.06-.94-.94-2.06-.94 2.06-2.06.94z\"/><path d=\"M17.41 7.96l-1.37-1.37c-.4-.4-.92-.59-1.43-.59-.52 0-1.04.2-1.43.59L10.3 9.45l-7.72 7.72c-.78.78-.78 2.05 0 2.83L4 21.41c.39.39.9.59 1.41.59.51 0 1.02-.2 1.41-.59l7.78-7.78 2.81-2.81c.8-.78.8-2.07 0-2.86zM5.41 20L4 18.59l7.72-7.72 1.47 1.35L5.41 20z\"/>\n",
              "  </svg>\n",
              "      </button>\n",
              "      \n",
              "  <style>\n",
              "    .colab-df-container {\n",
              "      display:flex;\n",
              "      flex-wrap:wrap;\n",
              "      gap: 12px;\n",
              "    }\n",
              "\n",
              "    .colab-df-convert {\n",
              "      background-color: #E8F0FE;\n",
              "      border: none;\n",
              "      border-radius: 50%;\n",
              "      cursor: pointer;\n",
              "      display: none;\n",
              "      fill: #1967D2;\n",
              "      height: 32px;\n",
              "      padding: 0 0 0 0;\n",
              "      width: 32px;\n",
              "    }\n",
              "\n",
              "    .colab-df-convert:hover {\n",
              "      background-color: #E2EBFA;\n",
              "      box-shadow: 0px 1px 2px rgba(60, 64, 67, 0.3), 0px 1px 3px 1px rgba(60, 64, 67, 0.15);\n",
              "      fill: #174EA6;\n",
              "    }\n",
              "\n",
              "    [theme=dark] .colab-df-convert {\n",
              "      background-color: #3B4455;\n",
              "      fill: #D2E3FC;\n",
              "    }\n",
              "\n",
              "    [theme=dark] .colab-df-convert:hover {\n",
              "      background-color: #434B5C;\n",
              "      box-shadow: 0px 1px 3px 1px rgba(0, 0, 0, 0.15);\n",
              "      filter: drop-shadow(0px 1px 2px rgba(0, 0, 0, 0.3));\n",
              "      fill: #FFFFFF;\n",
              "    }\n",
              "  </style>\n",
              "\n",
              "      <script>\n",
              "        const buttonEl =\n",
              "          document.querySelector('#df-992fa5d8-9a0c-44fa-8f0c-a2f4e0e86314 button.colab-df-convert');\n",
              "        buttonEl.style.display =\n",
              "          google.colab.kernel.accessAllowed ? 'block' : 'none';\n",
              "\n",
              "        async function convertToInteractive(key) {\n",
              "          const element = document.querySelector('#df-992fa5d8-9a0c-44fa-8f0c-a2f4e0e86314');\n",
              "          const dataTable =\n",
              "            await google.colab.kernel.invokeFunction('convertToInteractive',\n",
              "                                                     [key], {});\n",
              "          if (!dataTable) return;\n",
              "\n",
              "          const docLinkHtml = 'Like what you see? Visit the ' +\n",
              "            '<a target=\"_blank\" href=https://colab.research.google.com/notebooks/data_table.ipynb>data table notebook</a>'\n",
              "            + ' to learn more about interactive tables.';\n",
              "          element.innerHTML = '';\n",
              "          dataTable['output_type'] = 'display_data';\n",
              "          await google.colab.output.renderOutput(dataTable, element);\n",
              "          const docLink = document.createElement('div');\n",
              "          docLink.innerHTML = docLinkHtml;\n",
              "          element.appendChild(docLink);\n",
              "        }\n",
              "      </script>\n",
              "    </div>\n",
              "  </div>\n",
              "  "
            ]
          },
          "metadata": {}
        }
      ]
    },
    {
      "cell_type": "code",
      "source": [
        "plt.figure(figsize=(15, 10))\n",
        "plt.bar(results.index, results['F1_SCORE'], alpha=1, color='blue', label='F1 score')\n",
        "plt.bar(results.index, results['ACCURACY'], alpha=0.4, color='green', label='Accuracy')\n",
        "plt.xlabel('Model number (see table above for type)')\n",
        "plt.title('F1 score and accuracy for models tested')\n",
        "plt.legend()\n",
        "plt.show()"
      ],
      "metadata": {
        "colab": {
          "base_uri": "https://localhost:8080/",
          "height": 621
        },
        "id": "wb94rIVeJrfu",
        "outputId": "ed8105b1-4ec0-4a5a-ab9e-a1dcb2e18a57"
      },
      "execution_count": 39,
      "outputs": [
        {
          "output_type": "display_data",
          "data": {
            "text/plain": [
              "<Figure size 1080x720 with 1 Axes>"
            ],
            "image/png": "[encoded data removed]"
          },
          "metadata": {
            "needs_background": "light"
          }
        }
      ]
    },
    {
      "cell_type": "code",
      "source": [
        "plt.figure(figsize=(15, 10))\n",
        "plt.bar(results.index, results['PRECISION'], alpha=0.5, color='yellow', label='Precision')\n",
        "plt.bar(results.index, results['RECALL'], alpha=1, color='red', label='Recall')\n",
        "plt.xlabel('Model number (see table above for type)')\n",
        "plt.title('Precision and recall for models tested')\n",
        "plt.legend()\n",
        "plt.show()"
      ],
      "metadata": {
        "colab": {
          "base_uri": "https://localhost:8080/",
          "height": 621
        },
        "id": "aMFat5odM89J",
        "outputId": "affd8e3f-fd45-4eab-81ca-6a607b3c7f93"
      },
      "execution_count": 42,
      "outputs": [
        {
          "output_type": "display_data",
          "data": {
            "text/plain": [
              "<Figure size 1080x720 with 1 Axes>"
            ],
            "image/png": "[encoded data removed]"
          },
          "metadata": {
            "needs_background": "light"
          }
        }
      ]
    }
  ]
}